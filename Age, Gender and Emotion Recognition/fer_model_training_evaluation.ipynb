{
 "cells": [
  {
   "cell_type": "code",
   "execution_count": 1,
   "metadata": {
    "_cell_guid": "b1076dfc-b9ad-4769-8c92-a6c4dae69d19",
    "_uuid": "8f2839f25d086af736a60e9eeb907d3b93b6e0e5"
   },
   "outputs": [
    {
     "name": "stdout",
     "output_type": "stream",
     "text": [
      "/kaggle/input/facial-expression-recognitionferchallenge/Submission.csv\n",
      "/kaggle/input/facial-expression-recognitionferchallenge/fer2013/fer2013/README\n",
      "/kaggle/input/facial-expression-recognitionferchallenge/fer2013/fer2013/fer2013.csv\n",
      "/kaggle/input/facial-expression-recognitionferchallenge/fer2013/fer2013/fer2013.bib\n"
     ]
    }
   ],
   "source": [
    "# This Python 3 environment comes with many helpful analytics libraries installed\n",
    "# It is defined by the kaggle/python docker image: https://github.com/kaggle/docker-python\n",
    "# For example, here's several helpful packages to load in \n",
    "\n",
    "import numpy as np # linear algebra\n",
    "import pandas as pd # data processing, CSV file I/O (e.g. pd.read_csv)\n",
    "\n",
    "# Input data files are available in the \"../input/\" directory.\n",
    "# For example, running this (by clicking run or pressing Shift+Enter) will list all files under the input directory\n",
    "\n",
    "import os\n",
    "for dirname, _, filenames in os.walk('/kaggle/input'):\n",
    "    for filename in filenames:\n",
    "        print(os.path.join(dirname, filename))\n",
    "\n",
    "# Any results you write to the current directory are saved as output."
   ]
  },
  {
   "cell_type": "markdown",
   "metadata": {},
   "source": [
    "# Training the DataSet"
   ]
  },
  {
   "cell_type": "markdown",
   "metadata": {},
   "source": [
    "The dataset we are using for Emotion Detection for Facial Expressions is \"FER2013\"  "
   ]
  },
  {
   "cell_type": "code",
   "execution_count": 2,
   "metadata": {
    "_cell_guid": "79c7e3d0-c299-4dcb-8224-4455121ee9b0",
    "_uuid": "d629ff2d2480ee46fbb7e2d37f6b5fab8052498a"
   },
   "outputs": [],
   "source": [
    "import pandas as pd\n",
    "import numpy as np\n",
    "from matplotlib import pyplot\n",
    "import scipy.misc \n",
    "from math import sqrt \n",
    "import itertools\n",
    "from IPython.display import display\n",
    "%matplotlib inline"
   ]
  },
  {
   "cell_type": "code",
   "execution_count": 3,
   "metadata": {},
   "outputs": [
    {
     "data": {
      "text/html": [
       "<div>\n",
       "<style scoped>\n",
       "    .dataframe tbody tr th:only-of-type {\n",
       "        vertical-align: middle;\n",
       "    }\n",
       "\n",
       "    .dataframe tbody tr th {\n",
       "        vertical-align: top;\n",
       "    }\n",
       "\n",
       "    .dataframe thead th {\n",
       "        text-align: right;\n",
       "    }\n",
       "</style>\n",
       "<table border=\"1\" class=\"dataframe\">\n",
       "  <thead>\n",
       "    <tr style=\"text-align: right;\">\n",
       "      <th></th>\n",
       "      <th>emotion</th>\n",
       "      <th>pixels</th>\n",
       "      <th>Usage</th>\n",
       "    </tr>\n",
       "  </thead>\n",
       "  <tbody>\n",
       "    <tr>\n",
       "      <th>0</th>\n",
       "      <td>0</td>\n",
       "      <td>70 80 82 72 58 58 60 63 54 58 60 48 89 115 121...</td>\n",
       "      <td>Training</td>\n",
       "    </tr>\n",
       "    <tr>\n",
       "      <th>1</th>\n",
       "      <td>0</td>\n",
       "      <td>151 150 147 155 148 133 111 140 170 174 182 15...</td>\n",
       "      <td>Training</td>\n",
       "    </tr>\n",
       "    <tr>\n",
       "      <th>2</th>\n",
       "      <td>2</td>\n",
       "      <td>231 212 156 164 174 138 161 173 182 200 106 38...</td>\n",
       "      <td>Training</td>\n",
       "    </tr>\n",
       "    <tr>\n",
       "      <th>3</th>\n",
       "      <td>4</td>\n",
       "      <td>24 32 36 30 32 23 19 20 30 41 21 22 32 34 21 1...</td>\n",
       "      <td>Training</td>\n",
       "    </tr>\n",
       "    <tr>\n",
       "      <th>4</th>\n",
       "      <td>6</td>\n",
       "      <td>4 0 0 0 0 0 0 0 0 0 0 0 3 15 23 28 48 50 58 84...</td>\n",
       "      <td>Training</td>\n",
       "    </tr>\n",
       "  </tbody>\n",
       "</table>\n",
       "</div>"
      ],
      "text/plain": [
       "   emotion                                             pixels     Usage\n",
       "0        0  70 80 82 72 58 58 60 63 54 58 60 48 89 115 121...  Training\n",
       "1        0  151 150 147 155 148 133 111 140 170 174 182 15...  Training\n",
       "2        2  231 212 156 164 174 138 161 173 182 200 106 38...  Training\n",
       "3        4  24 32 36 30 32 23 19 20 30 41 21 22 32 34 21 1...  Training\n",
       "4        6  4 0 0 0 0 0 0 0 0 0 0 0 3 15 23 28 48 50 58 84...  Training"
      ]
     },
     "execution_count": 3,
     "metadata": {},
     "output_type": "execute_result"
    }
   ],
   "source": [
    "#Loading the dataset\n",
    "data= pd.read_csv('../input/facial-expression-recognitionferchallenge/fer2013/fer2013/fer2013.csv')\n",
    "data.head()"
   ]
  },
  {
   "cell_type": "code",
   "execution_count": 4,
   "metadata": {},
   "outputs": [],
   "source": [
    "#Number of training samples of each emotions\n",
    "from pylab import rcParams\n",
    "rcParams['figure.figsize'] = 15, 10"
   ]
  },
  {
   "cell_type": "code",
   "execution_count": 5,
   "metadata": {},
   "outputs": [
    {
     "data": {
      "text/plain": [
       "Training       28709\n",
       "PublicTest      3589\n",
       "PrivateTest     3589\n",
       "Name: Usage, dtype: int64"
      ]
     },
     "execution_count": 5,
     "metadata": {},
     "output_type": "execute_result"
    }
   ],
   "source": [
    "#Assigning Names to Emotions in labels\n",
    "\n",
    "num_classes = 7\n",
    "width = 48\n",
    "height = 48\n",
    "emotion_labels = [\"Angry\", \"Disgust\", \"Fear\", \"Happy\", \"Sad\", \"Surprise\", \"Neutral\"]\n",
    "classes=np.array((\"Angry\", \"Disgust\", \"Fear\", \"Happy\", \"Sad\", \"Surprise\", \"Neutral\"))\n",
    "data.Usage.value_counts() "
   ]
  },
  {
   "cell_type": "markdown",
   "metadata": {},
   "source": [
    "# Visualisation of Dataset"
   ]
  },
  {
   "cell_type": "code",
   "execution_count": 6,
   "metadata": {},
   "outputs": [
    {
     "name": "stderr",
     "output_type": "stream",
     "text": [
      "/opt/conda/lib/python3.6/site-packages/ipykernel_launcher.py:6: DeprecationWarning: `toimage` is deprecated!\n",
      "`toimage` is deprecated in SciPy 1.0.0, and will be removed in 1.2.0.\n",
      "Use Pillow's ``Image.fromarray`` directly instead.\n",
      "  \n"
     ]
    },
    {
     "data": {
      "image/png": "[encoded data removed]",
      "text/plain": [
       "<PIL.Image.Image image mode=L size=48x48 at 0x7FF1774B5390>"
      ]
     },
     "metadata": {},
     "output_type": "display_data"
    },
    {
     "name": "stdout",
     "output_type": "stream",
     "text": [
      "Angry\n"
     ]
    },
    {
     "data": {
      "image/png": "[encoded data removed]",
      "text/plain": [
       "<PIL.Image.Image image mode=L size=48x48 at 0x7FF17743DC18>"
      ]
     },
     "metadata": {},
     "output_type": "display_data"
    },
    {
     "name": "stdout",
     "output_type": "stream",
     "text": [
      "Angry\n"
     ]
    },
    {
     "data": {
      "image/png": "[encoded data removed]",
      "text/plain": [
       "<PIL.Image.Image image mode=L size=48x48 at 0x7FF17743DBE0>"
      ]
     },
     "metadata": {},
     "output_type": "display_data"
    },
    {
     "name": "stdout",
     "output_type": "stream",
     "text": [
      "Fear\n"
     ]
    },
    {
     "data": {
      "image/png": "[encoded data removed]",
      "text/plain": [
       "<PIL.Image.Image image mode=L size=48x48 at 0x7FF1774680B8>"
      ]
     },
     "metadata": {},
     "output_type": "display_data"
    },
    {
     "name": "stdout",
     "output_type": "stream",
     "text": [
      "Sad\n"
     ]
    },
    {
     "data": {
      "image/png": "[encoded data removed]",
      "text/plain": [
       "<PIL.Image.Image image mode=L size=48x48 at 0x7FF1773FC438>"
      ]
     },
     "metadata": {},
     "output_type": "display_data"
    },
    {
     "name": "stdout",
     "output_type": "stream",
     "text": [
      "Neutral\n"
     ]
    },
    {
     "data": {
      "image/png": "[encoded data removed]",
      "text/plain": [
       "<PIL.Image.Image image mode=L size=48x48 at 0x7FF1773F1908>"
      ]
     },
     "metadata": {},
     "output_type": "display_data"
    },
    {
     "name": "stdout",
     "output_type": "stream",
     "text": [
      "Fear\n"
     ]
    },
    {
     "data": {
      "image/png": "[encoded data removed]",
      "text/plain": [
       "<PIL.Image.Image image mode=L size=48x48 at 0x7FF1773F1080>"
      ]
     },
     "metadata": {},
     "output_type": "display_data"
    },
    {
     "name": "stdout",
     "output_type": "stream",
     "text": [
      "Sad\n"
     ]
    },
    {
     "data": {
      "image/png": "[encoded data removed]",
      "text/plain": [
       "<PIL.Image.Image image mode=L size=48x48 at 0x7FF17743DC88>"
      ]
     },
     "metadata": {},
     "output_type": "display_data"
    },
    {
     "name": "stdout",
     "output_type": "stream",
     "text": [
      "Happy\n"
     ]
    },
    {
     "data": {
      "image/png": "[encoded data removed]",
      "text/plain": [
       "<PIL.Image.Image image mode=L size=48x48 at 0x7FF177468080>"
      ]
     },
     "metadata": {},
     "output_type": "display_data"
    },
    {
     "name": "stdout",
     "output_type": "stream",
     "text": [
      "Happy\n"
     ]
    },
    {
     "data": {
      "image/png": "[encoded data removed]",
      "text/plain": [
       "<PIL.Image.Image image mode=L size=48x48 at 0x7FF177464048>"
      ]
     },
     "metadata": {},
     "output_type": "display_data"
    },
    {
     "name": "stdout",
     "output_type": "stream",
     "text": [
      "Fear\n"
     ]
    }
   ],
   "source": [
    "depth = 1\n",
    "height = int(sqrt(len(data.pixels[0].split()))) \n",
    "width = int(height)\n",
    "for i in range(0, 10): \n",
    "    array = np.mat(data.pixels[i]).reshape(height, width) \n",
    "    image = scipy.misc.toimage(array, cmin=0.0) \n",
    "    display(image)\n",
    "    print(emotion_labels[data.emotion[i]]) "
   ]
  },
  {
   "cell_type": "markdown",
   "metadata": {},
   "source": [
    "# Splitting the dataset"
   ]
  },
  {
   "cell_type": "code",
   "execution_count": 7,
   "metadata": {},
   "outputs": [],
   "source": [
    "train_set = data[(data.Usage == 'Training')] \n",
    "val_set = data[(data.Usage == 'PublicTest')]\n",
    "test_set = data[(data.Usage == 'PrivateTest')] \n",
    "X_train = np.array(list(map(str.split, train_set.pixels)), np.float32) \n",
    "X_val = np.array(list(map(str.split, val_set.pixels)), np.float32) \n",
    "X_test = np.array(list(map(str.split, test_set.pixels)), np.float32) \n",
    "X_train = X_train.reshape(X_train.shape[0], 48, 48, 1) \n",
    "X_val = X_val.reshape(X_val.shape[0], 48, 48, 1)\n",
    "X_test = X_test.reshape(X_test.shape[0], 48, 48, 1)"
   ]
  },
  {
   "cell_type": "code",
   "execution_count": 8,
   "metadata": {},
   "outputs": [],
   "source": [
    "num_train = X_train.shape[0]\n",
    "num_val = X_val.shape[0]\n",
    "num_test = X_test.shape[0]"
   ]
  },
  {
   "cell_type": "code",
   "execution_count": 9,
   "metadata": {},
   "outputs": [
    {
     "name": "stderr",
     "output_type": "stream",
     "text": [
      "Using TensorFlow backend.\n"
     ]
    }
   ],
   "source": [
    "from keras.utils import np_utils\n",
    "from keras.preprocessing.image import ImageDataGenerator "
   ]
  },
  {
   "cell_type": "code",
   "execution_count": 10,
   "metadata": {},
   "outputs": [],
   "source": [
    "y_train = train_set.emotion \n",
    "y_train = np_utils.to_categorical(y_train, num_classes) \n",
    "y_val = val_set.emotion \n",
    "y_val = np_utils.to_categorical(y_val, num_classes) \n",
    "y_test = test_set.emotion \n",
    "y_test = np_utils.to_categorical(y_test, num_classes)"
   ]
  },
  {
   "cell_type": "markdown",
   "metadata": {},
   "source": [
    "# Image Preprocessing"
   ]
  },
  {
   "cell_type": "code",
   "execution_count": 11,
   "metadata": {},
   "outputs": [],
   "source": [
    "datagen = ImageDataGenerator( \n",
    "    rescale=1./255,\n",
    "    rotation_range = 10,\n",
    "    horizontal_flip = True,\n",
    "    width_shift_range=0.1,\n",
    "    height_shift_range=0.1,\n",
    "    fill_mode = 'nearest')\n",
    "\n",
    "testgen = ImageDataGenerator( \n",
    "    rescale=1./255\n",
    "    )\n",
    "datagen.fit(X_train)\n",
    "batch_size = 64"
   ]
  },
  {
   "cell_type": "code",
   "execution_count": 12,
   "metadata": {},
   "outputs": [
    {
     "data": {
      "image/png": "[encoded data removed]",
      "text/plain": [
       "<Figure size 1080x720 with 9 Axes>"
      ]
     },
     "metadata": {
      "needs_background": "light"
     },
     "output_type": "display_data"
    }
   ],
   "source": [
    "for X_batch, y_batch in datagen.flow(X_train, y_train, batch_size=9):\n",
    "    for i in range(0, 9): \n",
    "        pyplot.axis('off') \n",
    "        pyplot.subplot(330 + 1 + i) \n",
    "        pyplot.imshow(X_batch[i].reshape(48, 48), cmap=pyplot.get_cmap('gray'))\n",
    "    pyplot.axis('off') \n",
    "    pyplot.show() \n",
    "    break"
   ]
  },
  {
   "cell_type": "code",
   "execution_count": 13,
   "metadata": {},
   "outputs": [],
   "source": [
    "train_flow = datagen.flow(X_train, y_train, batch_size=batch_size) \n",
    "val_flow = testgen.flow(X_val, y_val, batch_size=batch_size) \n",
    "test_flow = testgen.flow(X_test, y_test, batch_size=batch_size)"
   ]
  },
  {
   "cell_type": "markdown",
   "metadata": {},
   "source": [
    "# Building Neural Network Model"
   ]
  },
  {
   "cell_type": "code",
   "execution_count": 14,
   "metadata": {},
   "outputs": [],
   "source": [
    "from keras.utils import plot_model\n",
    "from keras.models import Model\n",
    "from keras.layers import Input, Dense, Flatten, Dropout, BatchNormalization\n",
    "from keras.layers.convolutional import Conv2D\n",
    "from keras.layers.pooling import MaxPooling2D\n",
    "from keras.layers.merge import concatenate\n",
    "from keras.optimizers import Adam, SGD\n",
    "from keras.regularizers import l1, l2\n",
    "from matplotlib import pyplot as plt\n",
    "from sklearn.metrics import confusion_matrix"
   ]
  },
  {
   "cell_type": "code",
   "execution_count": 15,
   "metadata": {},
   "outputs": [],
   "source": [
    "def FER_Model(input_shape=(48,48,1)):\n",
    "    # first input model\n",
    "    visible = Input(shape=input_shape, name='input')\n",
    "    num_classes = 7\n",
    "    #the 1-st block\n",
    "    conv1_1 = Conv2D(64, kernel_size=3, activation='relu', padding='same', name = 'conv1_1')(visible)\n",
    "    conv1_1 = BatchNormalization()(conv1_1)\n",
    "    conv1_2 = Conv2D(64, kernel_size=3, activation='relu', padding='same', name = 'conv1_2')(conv1_1)\n",
    "    conv1_2 = BatchNormalization()(conv1_2)\n",
    "    pool1_1 = MaxPooling2D(pool_size=(2,2), name = 'pool1_1')(conv1_2)\n",
    "    drop1_1 = Dropout(0.3, name = 'drop1_1')(pool1_1)\n",
    "\n",
    "    #the 2-nd block\n",
    "    conv2_1 = Conv2D(128, kernel_size=3, activation='relu', padding='same', name = 'conv2_1')(drop1_1)\n",
    "    conv2_1 = BatchNormalization()(conv2_1)\n",
    "    conv2_2 = Conv2D(128, kernel_size=3, activation='relu', padding='same', name = 'conv2_2')(conv2_1)\n",
    "    conv2_2 = BatchNormalization()(conv2_2)\n",
    "    conv2_3 = Conv2D(128, kernel_size=3, activation='relu', padding='same', name = 'conv2_3')(conv2_2)\n",
    "    conv2_2 = BatchNormalization()(conv2_3)\n",
    "    pool2_1 = MaxPooling2D(pool_size=(2,2), name = 'pool2_1')(conv2_3)\n",
    "    drop2_1 = Dropout(0.3, name = 'drop2_1')(pool2_1)\n",
    "\n",
    "     #the 3-rd block\n",
    "    conv3_1 = Conv2D(256, kernel_size=3, activation='relu', padding='same', name = 'conv3_1')(drop2_1)\n",
    "    conv3_1 = BatchNormalization()(conv3_1)\n",
    "    conv3_2 = Conv2D(256, kernel_size=3, activation='relu', padding='same', name = 'conv3_2')(conv3_1)\n",
    "    conv3_2 = BatchNormalization()(conv3_2)\n",
    "    conv3_3 = Conv2D(256, kernel_size=3, activation='relu', padding='same', name = 'conv3_3')(conv3_2)\n",
    "    conv3_3 = BatchNormalization()(conv3_3)\n",
    "    conv3_4 = Conv2D(256, kernel_size=3, activation='relu', padding='same', name = 'conv3_4')(conv3_3)\n",
    "    conv3_4 = BatchNormalization()(conv3_4)\n",
    "    pool3_1 = MaxPooling2D(pool_size=(2,2), name = 'pool3_1')(conv3_4)\n",
    "    drop3_1 = Dropout(0.3, name = 'drop3_1')(pool3_1)\n",
    "\n",
    "    #the 4-th block\n",
    "    conv4_1 = Conv2D(256, kernel_size=3, activation='relu', padding='same', name = 'conv4_1')(drop3_1)\n",
    "    conv4_1 = BatchNormalization()(conv4_1)\n",
    "    conv4_2 = Conv2D(256, kernel_size=3, activation='relu', padding='same', name = 'conv4_2')(conv4_1)\n",
    "    conv4_2 = BatchNormalization()(conv4_2)\n",
    "    conv4_3 = Conv2D(256, kernel_size=3, activation='relu', padding='same', name = 'conv4_3')(conv4_2)\n",
    "    conv4_3 = BatchNormalization()(conv4_3)\n",
    "    conv4_4 = Conv2D(256, kernel_size=3, activation='relu', padding='same', name = 'conv4_4')(conv4_3)\n",
    "    conv4_4 = BatchNormalization()(conv4_4)\n",
    "    pool4_1 = MaxPooling2D(pool_size=(2,2), name = 'pool4_1')(conv4_4)\n",
    "    drop4_1 = Dropout(0.3, name = 'drop4_1')(pool4_1)\n",
    "    \n",
    "    #the 5-th block\n",
    "    conv5_1 = Conv2D(512, kernel_size=3, activation='relu', padding='same', name = 'conv5_1')(drop4_1)\n",
    "    conv5_1 = BatchNormalization()(conv5_1)\n",
    "    conv5_2 = Conv2D(512, kernel_size=3, activation='relu', padding='same', name = 'conv5_2')(conv5_1)\n",
    "    conv5_2 = BatchNormalization()(conv5_2)\n",
    "    conv5_3 = Conv2D(512, kernel_size=3, activation='relu', padding='same', name = 'conv5_3')(conv5_2)\n",
    "    conv5_3 = BatchNormalization()(conv5_3)\n",
    "    conv5_4 = Conv2D(512, kernel_size=3, activation='relu', padding='same', name = 'conv5_4')(conv5_3)\n",
    "    conv5_3 = BatchNormalization()(conv5_3)\n",
    "    pool5_1 = MaxPooling2D(pool_size=(2,2), name = 'pool5_1')(conv5_4)\n",
    "    drop5_1 = Dropout(0.3, name = 'drop5_1')(pool5_1)\n",
    "\n",
    "    #Flatten and output\n",
    "    flatten = Flatten(name = 'flatten')(drop5_1)\n",
    "    ouput = Dense(num_classes, activation='sigmoid', name = 'output')(flatten)\n",
    "\n",
    "    # create model \n",
    "    model = Model(inputs =visible, outputs = ouput)\n",
    "    # summary layers\n",
    "    print(model.summary())\n",
    "    \n",
    "    return model"
   ]
  },
  {
   "cell_type": "code",
   "execution_count": 16,
   "metadata": {},
   "outputs": [
    {
     "name": "stdout",
     "output_type": "stream",
     "text": [
      "Model: \"model_1\"\n",
      "_________________________________________________________________\n",
      "Layer (type)                 Output Shape              Param #   \n",
      "=================================================================\n",
      "input (InputLayer)           (None, 48, 48, 1)         0         \n",
      "_________________________________________________________________\n",
      "conv1_1 (Conv2D)             (None, 48, 48, 64)        640       \n",
      "_________________________________________________________________\n",
      "batch_normalization_1 (Batch (None, 48, 48, 64)        256       \n",
      "_________________________________________________________________\n",
      "conv1_2 (Conv2D)             (None, 48, 48, 64)        36928     \n",
      "_________________________________________________________________\n",
      "batch_normalization_2 (Batch (None, 48, 48, 64)        256       \n",
      "_________________________________________________________________\n",
      "pool1_1 (MaxPooling2D)       (None, 24, 24, 64)        0         \n",
      "_________________________________________________________________\n",
      "drop1_1 (Dropout)            (None, 24, 24, 64)        0         \n",
      "_________________________________________________________________\n",
      "conv2_1 (Conv2D)             (None, 24, 24, 128)       73856     \n",
      "_________________________________________________________________\n",
      "batch_normalization_3 (Batch (None, 24, 24, 128)       512       \n",
      "_________________________________________________________________\n",
      "conv2_2 (Conv2D)             (None, 24, 24, 128)       147584    \n",
      "_________________________________________________________________\n",
      "batch_normalization_4 (Batch (None, 24, 24, 128)       512       \n",
      "_________________________________________________________________\n",
      "conv2_3 (Conv2D)             (None, 24, 24, 128)       147584    \n",
      "_________________________________________________________________\n",
      "pool2_1 (MaxPooling2D)       (None, 12, 12, 128)       0         \n",
      "_________________________________________________________________\n",
      "drop2_1 (Dropout)            (None, 12, 12, 128)       0         \n",
      "_________________________________________________________________\n",
      "conv3_1 (Conv2D)             (None, 12, 12, 256)       295168    \n",
      "_________________________________________________________________\n",
      "batch_normalization_6 (Batch (None, 12, 12, 256)       1024      \n",
      "_________________________________________________________________\n",
      "conv3_2 (Conv2D)             (None, 12, 12, 256)       590080    \n",
      "_________________________________________________________________\n",
      "batch_normalization_7 (Batch (None, 12, 12, 256)       1024      \n",
      "_________________________________________________________________\n",
      "conv3_3 (Conv2D)             (None, 12, 12, 256)       590080    \n",
      "_________________________________________________________________\n",
      "batch_normalization_8 (Batch (None, 12, 12, 256)       1024      \n",
      "_________________________________________________________________\n",
      "conv3_4 (Conv2D)             (None, 12, 12, 256)       590080    \n",
      "_________________________________________________________________\n",
      "batch_normalization_9 (Batch (None, 12, 12, 256)       1024      \n",
      "_________________________________________________________________\n",
      "pool3_1 (MaxPooling2D)       (None, 6, 6, 256)         0         \n",
      "_________________________________________________________________\n",
      "drop3_1 (Dropout)            (None, 6, 6, 256)         0         \n",
      "_________________________________________________________________\n",
      "conv4_1 (Conv2D)             (None, 6, 6, 256)         590080    \n",
      "_________________________________________________________________\n",
      "batch_normalization_10 (Batc (None, 6, 6, 256)         1024      \n",
      "_________________________________________________________________\n",
      "conv4_2 (Conv2D)             (None, 6, 6, 256)         590080    \n",
      "_________________________________________________________________\n",
      "batch_normalization_11 (Batc (None, 6, 6, 256)         1024      \n",
      "_________________________________________________________________\n",
      "conv4_3 (Conv2D)             (None, 6, 6, 256)         590080    \n",
      "_________________________________________________________________\n",
      "batch_normalization_12 (Batc (None, 6, 6, 256)         1024      \n",
      "_________________________________________________________________\n",
      "conv4_4 (Conv2D)             (None, 6, 6, 256)         590080    \n",
      "_________________________________________________________________\n",
      "batch_normalization_13 (Batc (None, 6, 6, 256)         1024      \n",
      "_________________________________________________________________\n",
      "pool4_1 (MaxPooling2D)       (None, 3, 3, 256)         0         \n",
      "_________________________________________________________________\n",
      "drop4_1 (Dropout)            (None, 3, 3, 256)         0         \n",
      "_________________________________________________________________\n",
      "conv5_1 (Conv2D)             (None, 3, 3, 512)         1180160   \n",
      "_________________________________________________________________\n",
      "batch_normalization_14 (Batc (None, 3, 3, 512)         2048      \n",
      "_________________________________________________________________\n",
      "conv5_2 (Conv2D)             (None, 3, 3, 512)         2359808   \n",
      "_________________________________________________________________\n",
      "batch_normalization_15 (Batc (None, 3, 3, 512)         2048      \n",
      "_________________________________________________________________\n",
      "conv5_3 (Conv2D)             (None, 3, 3, 512)         2359808   \n",
      "_________________________________________________________________\n",
      "batch_normalization_16 (Batc (None, 3, 3, 512)         2048      \n",
      "_________________________________________________________________\n",
      "conv5_4 (Conv2D)             (None, 3, 3, 512)         2359808   \n",
      "_________________________________________________________________\n",
      "pool5_1 (MaxPooling2D)       (None, 1, 1, 512)         0         \n",
      "_________________________________________________________________\n",
      "drop5_1 (Dropout)            (None, 1, 1, 512)         0         \n",
      "_________________________________________________________________\n",
      "flatten (Flatten)            (None, 512)               0         \n",
      "_________________________________________________________________\n",
      "output (Dense)               (None, 7)                 3591      \n",
      "=================================================================\n",
      "Total params: 13,111,367\n",
      "Trainable params: 13,103,431\n",
      "Non-trainable params: 7,936\n",
      "_________________________________________________________________\n",
      "None\n"
     ]
    }
   ],
   "source": [
    "model = FER_Model()\n",
    "opt = Adam(lr=0.0001, decay=1e-6)\n",
    "model.compile(loss='binary_crossentropy', optimizer=opt, metrics=['accuracy'])"
   ]
  },
  {
   "cell_type": "code",
   "execution_count": 17,
   "metadata": {},
   "outputs": [],
   "source": [
    "from keras.callbacks import ModelCheckpoint\n",
    "filepath=\"weights_min_loss.hdf5\"\n",
    "checkpoint = ModelCheckpoint(filepath, monitor='val_loss', verbose=1, save_best_only=True, mode='min')\n",
    "callbacks_list = [checkpoint]"
   ]
  },
  {
   "cell_type": "code",
   "execution_count": 18,
   "metadata": {},
   "outputs": [
    {
     "name": "stdout",
     "output_type": "stream",
     "text": [
      "Epoch 1/200\n",
      " - 47s - loss: 0.4205 - accuracy: 0.8468 - val_loss: 0.4406 - val_accuracy: 0.8571\n",
      "\n",
      "Epoch 00001: val_loss improved from inf to 0.44062, saving model to weights_min_loss.hdf5\n",
      "Epoch 2/200\n",
      " - 36s - loss: 0.3869 - accuracy: 0.8567 - val_loss: 0.3558 - val_accuracy: 0.8554\n",
      "\n",
      "Epoch 00002: val_loss improved from 0.44062 to 0.35578, saving model to weights_min_loss.hdf5\n",
      "Epoch 3/200\n",
      " - 37s - loss: 0.3746 - accuracy: 0.8585 - val_loss: 0.5116 - val_accuracy: 0.8367\n",
      "\n",
      "Epoch 00003: val_loss did not improve from 0.35578\n",
      "Epoch 4/200\n",
      " - 36s - loss: 0.3577 - accuracy: 0.8632 - val_loss: 0.2282 - val_accuracy: 0.8573\n",
      "\n",
      "Epoch 00004: val_loss improved from 0.35578 to 0.22818, saving model to weights_min_loss.hdf5\n",
      "Epoch 5/200\n",
      " - 37s - loss: 0.3431 - accuracy: 0.8686 - val_loss: 0.2839 - val_accuracy: 0.8714\n",
      "\n",
      "Epoch 00005: val_loss did not improve from 0.22818\n",
      "Epoch 6/200\n",
      " - 37s - loss: 0.3279 - accuracy: 0.8730 - val_loss: 0.6254 - val_accuracy: 0.8686\n",
      "\n",
      "Epoch 00006: val_loss did not improve from 0.22818\n",
      "Epoch 7/200\n",
      " - 36s - loss: 0.3147 - accuracy: 0.8766 - val_loss: 0.3058 - val_accuracy: 0.8772\n",
      "\n",
      "Epoch 00007: val_loss did not improve from 0.22818\n",
      "Epoch 8/200\n",
      " - 37s - loss: 0.3012 - accuracy: 0.8809 - val_loss: 0.4361 - val_accuracy: 0.8789\n",
      "\n",
      "Epoch 00008: val_loss did not improve from 0.22818\n",
      "Epoch 9/200\n",
      " - 36s - loss: 0.2906 - accuracy: 0.8832 - val_loss: 0.5356 - val_accuracy: 0.8807\n",
      "\n",
      "Epoch 00009: val_loss did not improve from 0.22818\n",
      "Epoch 10/200\n",
      " - 37s - loss: 0.2835 - accuracy: 0.8858 - val_loss: 0.2194 - val_accuracy: 0.8841\n",
      "\n",
      "Epoch 00010: val_loss improved from 0.22818 to 0.21944, saving model to weights_min_loss.hdf5\n",
      "Epoch 11/200\n",
      " - 37s - loss: 0.2756 - accuracy: 0.8876 - val_loss: 0.1046 - val_accuracy: 0.8896\n",
      "\n",
      "Epoch 00011: val_loss improved from 0.21944 to 0.10464, saving model to weights_min_loss.hdf5\n",
      "Epoch 12/200\n",
      " - 36s - loss: 0.2680 - accuracy: 0.8909 - val_loss: 0.2580 - val_accuracy: 0.8916\n",
      "\n",
      "Epoch 00012: val_loss did not improve from 0.10464\n",
      "Epoch 13/200\n",
      " - 37s - loss: 0.2624 - accuracy: 0.8928 - val_loss: 0.1329 - val_accuracy: 0.8911\n",
      "\n",
      "Epoch 00013: val_loss did not improve from 0.10464\n",
      "Epoch 14/200\n",
      " - 37s - loss: 0.2566 - accuracy: 0.8951 - val_loss: 0.1544 - val_accuracy: 0.8961\n",
      "\n",
      "Epoch 00014: val_loss did not improve from 0.10464\n",
      "Epoch 15/200\n",
      " - 36s - loss: 0.2528 - accuracy: 0.8969 - val_loss: 0.0766 - val_accuracy: 0.8934\n",
      "\n",
      "Epoch 00015: val_loss improved from 0.10464 to 0.07662, saving model to weights_min_loss.hdf5\n",
      "Epoch 16/200\n",
      " - 37s - loss: 0.2490 - accuracy: 0.8979 - val_loss: 0.3067 - val_accuracy: 0.8928\n",
      "\n",
      "Epoch 00016: val_loss did not improve from 0.07662\n",
      "Epoch 17/200\n",
      " - 36s - loss: 0.2447 - accuracy: 0.8997 - val_loss: 0.2168 - val_accuracy: 0.8965\n",
      "\n",
      "Epoch 00017: val_loss did not improve from 0.07662\n",
      "Epoch 18/200\n",
      " - 37s - loss: 0.2401 - accuracy: 0.9016 - val_loss: 0.2218 - val_accuracy: 0.8988\n",
      "\n",
      "Epoch 00018: val_loss did not improve from 0.07662\n",
      "Epoch 19/200\n",
      " - 37s - loss: 0.2382 - accuracy: 0.9014 - val_loss: 0.2008 - val_accuracy: 0.9002\n",
      "\n",
      "Epoch 00019: val_loss did not improve from 0.07662\n",
      "Epoch 20/200\n",
      " - 37s - loss: 0.2349 - accuracy: 0.9030 - val_loss: 0.3254 - val_accuracy: 0.9040\n",
      "\n",
      "Epoch 00020: val_loss did not improve from 0.07662\n",
      "Epoch 21/200\n",
      " - 37s - loss: 0.2316 - accuracy: 0.9039 - val_loss: 0.0886 - val_accuracy: 0.9017\n",
      "\n",
      "Epoch 00021: val_loss did not improve from 0.07662\n",
      "Epoch 22/200\n",
      " - 36s - loss: 0.2272 - accuracy: 0.9058 - val_loss: 0.1840 - val_accuracy: 0.8965\n",
      "\n",
      "Epoch 00022: val_loss did not improve from 0.07662\n",
      "Epoch 23/200\n",
      " - 37s - loss: 0.2255 - accuracy: 0.9072 - val_loss: 0.2334 - val_accuracy: 0.9076\n",
      "\n",
      "Epoch 00023: val_loss did not improve from 0.07662\n",
      "Epoch 24/200\n",
      " - 37s - loss: 0.2224 - accuracy: 0.9085 - val_loss: 0.0561 - val_accuracy: 0.9028\n",
      "\n",
      "Epoch 00024: val_loss improved from 0.07662 to 0.05610, saving model to weights_min_loss.hdf5\n",
      "Epoch 25/200\n",
      " - 36s - loss: 0.2187 - accuracy: 0.9103 - val_loss: 0.0719 - val_accuracy: 0.9060\n",
      "\n",
      "Epoch 00025: val_loss did not improve from 0.05610\n",
      "Epoch 26/200\n",
      " - 37s - loss: 0.2161 - accuracy: 0.9110 - val_loss: 0.3273 - val_accuracy: 0.9018\n",
      "\n",
      "Epoch 00026: val_loss did not improve from 0.05610\n",
      "Epoch 27/200\n",
      " - 37s - loss: 0.2149 - accuracy: 0.9115 - val_loss: 0.2545 - val_accuracy: 0.9052\n",
      "\n",
      "Epoch 00027: val_loss did not improve from 0.05610\n",
      "Epoch 28/200\n",
      " - 37s - loss: 0.2103 - accuracy: 0.9134 - val_loss: 0.2464 - val_accuracy: 0.9055\n",
      "\n",
      "Epoch 00028: val_loss did not improve from 0.05610\n",
      "Epoch 29/200\n",
      " - 37s - loss: 0.2093 - accuracy: 0.9144 - val_loss: 0.1608 - val_accuracy: 0.9049\n",
      "\n",
      "Epoch 00029: val_loss did not improve from 0.05610\n",
      "Epoch 30/200\n",
      " - 36s - loss: 0.2066 - accuracy: 0.9146 - val_loss: 0.1608 - val_accuracy: 0.9101\n",
      "\n",
      "Epoch 00030: val_loss did not improve from 0.05610\n",
      "Epoch 31/200\n",
      " - 37s - loss: 0.2031 - accuracy: 0.9167 - val_loss: 0.3690 - val_accuracy: 0.9061\n",
      "\n",
      "Epoch 00031: val_loss did not improve from 0.05610\n",
      "Epoch 32/200\n",
      " - 37s - loss: 0.2008 - accuracy: 0.9175 - val_loss: 0.2397 - val_accuracy: 0.9080\n",
      "\n",
      "Epoch 00032: val_loss did not improve from 0.05610\n",
      "Epoch 33/200\n",
      " - 36s - loss: 0.1985 - accuracy: 0.9184 - val_loss: 0.2773 - val_accuracy: 0.9031\n",
      "\n",
      "Epoch 00033: val_loss did not improve from 0.05610\n",
      "Epoch 34/200\n",
      " - 37s - loss: 0.1959 - accuracy: 0.9202 - val_loss: 0.3117 - val_accuracy: 0.9049\n",
      "\n",
      "Epoch 00034: val_loss did not improve from 0.05610\n",
      "Epoch 35/200\n",
      " - 37s - loss: 0.1936 - accuracy: 0.9206 - val_loss: 0.1777 - val_accuracy: 0.9090\n",
      "\n",
      "Epoch 00035: val_loss did not improve from 0.05610\n",
      "Epoch 36/200\n",
      " - 37s - loss: 0.1912 - accuracy: 0.9222 - val_loss: 0.0242 - val_accuracy: 0.9065\n",
      "\n",
      "Epoch 00036: val_loss improved from 0.05610 to 0.02424, saving model to weights_min_loss.hdf5\n",
      "Epoch 37/200\n",
      " - 37s - loss: 0.1888 - accuracy: 0.9222 - val_loss: 0.1493 - val_accuracy: 0.9078\n",
      "\n",
      "Epoch 00037: val_loss did not improve from 0.02424\n",
      "Epoch 38/200\n",
      " - 36s - loss: 0.1869 - accuracy: 0.9230 - val_loss: 0.2382 - val_accuracy: 0.9106\n",
      "\n",
      "Epoch 00038: val_loss did not improve from 0.02424\n",
      "Epoch 39/200\n",
      " - 37s - loss: 0.1838 - accuracy: 0.9251 - val_loss: 0.1055 - val_accuracy: 0.9088\n",
      "\n",
      "Epoch 00039: val_loss did not improve from 0.02424\n",
      "Epoch 40/200\n",
      " - 37s - loss: 0.1814 - accuracy: 0.9263 - val_loss: 0.3406 - val_accuracy: 0.9118\n",
      "\n",
      "Epoch 00040: val_loss did not improve from 0.02424\n",
      "Epoch 41/200\n",
      " - 37s - loss: 0.1798 - accuracy: 0.9269 - val_loss: 0.1706 - val_accuracy: 0.9103\n",
      "\n",
      "Epoch 00041: val_loss did not improve from 0.02424\n",
      "Epoch 42/200\n",
      " - 37s - loss: 0.1772 - accuracy: 0.9277 - val_loss: 0.2977 - val_accuracy: 0.9096\n",
      "\n",
      "Epoch 00042: val_loss did not improve from 0.02424\n",
      "Epoch 43/200\n",
      " - 37s - loss: 0.1746 - accuracy: 0.9286 - val_loss: 0.3602 - val_accuracy: 0.9100\n",
      "\n",
      "Epoch 00043: val_loss did not improve from 0.02424\n",
      "Epoch 44/200\n",
      " - 37s - loss: 0.1728 - accuracy: 0.9298 - val_loss: 0.5986 - val_accuracy: 0.9090\n",
      "\n",
      "Epoch 00044: val_loss did not improve from 0.02424\n",
      "Epoch 45/200\n",
      " - 37s - loss: 0.1708 - accuracy: 0.9308 - val_loss: 0.1198 - val_accuracy: 0.9108\n",
      "\n",
      "Epoch 00045: val_loss did not improve from 0.02424\n",
      "Epoch 46/200\n",
      " - 37s - loss: 0.1690 - accuracy: 0.9310 - val_loss: 0.0945 - val_accuracy: 0.9065\n",
      "\n",
      "Epoch 00046: val_loss did not improve from 0.02424\n",
      "Epoch 47/200\n",
      " - 37s - loss: 0.1656 - accuracy: 0.9327 - val_loss: 0.2913 - val_accuracy: 0.9131\n",
      "\n",
      "Epoch 00047: val_loss did not improve from 0.02424\n",
      "Epoch 48/200\n",
      " - 37s - loss: 0.1641 - accuracy: 0.9333 - val_loss: 0.2180 - val_accuracy: 0.9087\n",
      "\n",
      "Epoch 00048: val_loss did not improve from 0.02424\n",
      "Epoch 49/200\n",
      " - 37s - loss: 0.1613 - accuracy: 0.9345 - val_loss: 0.3346 - val_accuracy: 0.9096\n",
      "\n",
      "Epoch 00049: val_loss did not improve from 0.02424\n",
      "Epoch 50/200\n",
      " - 37s - loss: 0.1590 - accuracy: 0.9357 - val_loss: 0.2032 - val_accuracy: 0.9078\n",
      "\n",
      "Epoch 00050: val_loss did not improve from 0.02424\n",
      "Epoch 51/200\n",
      " - 36s - loss: 0.1584 - accuracy: 0.9360 - val_loss: 0.3007 - val_accuracy: 0.9108\n",
      "\n",
      "Epoch 00051: val_loss did not improve from 0.02424\n",
      "Epoch 52/200\n",
      " - 37s - loss: 0.1546 - accuracy: 0.9375 - val_loss: 0.4319 - val_accuracy: 0.9101\n",
      "\n",
      "Epoch 00052: val_loss did not improve from 0.02424\n",
      "Epoch 53/200\n",
      " - 37s - loss: 0.1535 - accuracy: 0.9381 - val_loss: 0.2028 - val_accuracy: 0.9090\n",
      "\n",
      "Epoch 00053: val_loss did not improve from 0.02424\n",
      "Epoch 54/200\n",
      " - 37s - loss: 0.1496 - accuracy: 0.9398 - val_loss: 0.3566 - val_accuracy: 0.9129\n",
      "\n",
      "Epoch 00054: val_loss did not improve from 0.02424\n",
      "Epoch 55/200\n",
      " - 37s - loss: 0.1484 - accuracy: 0.9399 - val_loss: 0.4056 - val_accuracy: 0.9093\n",
      "\n",
      "Epoch 00055: val_loss did not improve from 0.02424\n",
      "Epoch 56/200\n",
      " - 36s - loss: 0.1473 - accuracy: 0.9408 - val_loss: 0.1590 - val_accuracy: 0.9089\n",
      "\n",
      "Epoch 00056: val_loss did not improve from 0.02424\n",
      "Epoch 57/200\n",
      " - 37s - loss: 0.1450 - accuracy: 0.9410 - val_loss: 0.0519 - val_accuracy: 0.9108\n",
      "\n",
      "Epoch 00057: val_loss did not improve from 0.02424\n",
      "Epoch 58/200\n",
      " - 37s - loss: 0.1436 - accuracy: 0.9421 - val_loss: 0.1891 - val_accuracy: 0.9127\n",
      "\n",
      "Epoch 00058: val_loss did not improve from 0.02424\n",
      "Epoch 59/200\n",
      " - 36s - loss: 0.1403 - accuracy: 0.9436 - val_loss: 0.2108 - val_accuracy: 0.9081\n",
      "\n",
      "Epoch 00059: val_loss did not improve from 0.02424\n",
      "Epoch 60/200\n",
      " - 37s - loss: 0.1397 - accuracy: 0.9442 - val_loss: 0.2460 - val_accuracy: 0.9127\n",
      "\n",
      "Epoch 00060: val_loss did not improve from 0.02424\n",
      "Epoch 61/200\n",
      " - 36s - loss: 0.1383 - accuracy: 0.9445 - val_loss: 0.2754 - val_accuracy: 0.9132\n",
      "\n",
      "Epoch 00061: val_loss did not improve from 0.02424\n",
      "Epoch 62/200\n",
      " - 37s - loss: 0.1354 - accuracy: 0.9456 - val_loss: 0.6797 - val_accuracy: 0.9114\n",
      "\n",
      "Epoch 00062: val_loss did not improve from 0.02424\n",
      "Epoch 63/200\n",
      " - 37s - loss: 0.1326 - accuracy: 0.9466 - val_loss: 0.2942 - val_accuracy: 0.9135\n",
      "\n",
      "Epoch 00063: val_loss did not improve from 0.02424\n",
      "Epoch 64/200\n",
      " - 37s - loss: 0.1315 - accuracy: 0.9472 - val_loss: 0.3471 - val_accuracy: 0.9120\n",
      "\n",
      "Epoch 00064: val_loss did not improve from 0.02424\n",
      "Epoch 65/200\n",
      " - 37s - loss: 0.1299 - accuracy: 0.9481 - val_loss: 0.1142 - val_accuracy: 0.9119\n",
      "\n",
      "Epoch 00065: val_loss did not improve from 0.02424\n",
      "Epoch 66/200\n",
      " - 37s - loss: 0.1289 - accuracy: 0.9482 - val_loss: 0.3896 - val_accuracy: 0.9117\n",
      "\n",
      "Epoch 00066: val_loss did not improve from 0.02424\n",
      "Epoch 67/200\n",
      " - 37s - loss: 0.1271 - accuracy: 0.9492 - val_loss: 0.3230 - val_accuracy: 0.9107\n",
      "\n",
      "Epoch 00067: val_loss did not improve from 0.02424\n",
      "Epoch 68/200\n",
      " - 38s - loss: 0.1254 - accuracy: 0.9494 - val_loss: 0.1027 - val_accuracy: 0.9085\n",
      "\n",
      "Epoch 00068: val_loss did not improve from 0.02424\n",
      "Epoch 69/200\n",
      " - 37s - loss: 0.1245 - accuracy: 0.9504 - val_loss: 0.0207 - val_accuracy: 0.9067\n",
      "\n",
      "Epoch 00069: val_loss improved from 0.02424 to 0.02069, saving model to weights_min_loss.hdf5\n",
      "Epoch 70/200\n",
      " - 37s - loss: 0.1218 - accuracy: 0.9512 - val_loss: 0.0343 - val_accuracy: 0.9099\n",
      "\n",
      "Epoch 00070: val_loss did not improve from 0.02069\n",
      "Epoch 71/200\n",
      " - 37s - loss: 0.1196 - accuracy: 0.9517 - val_loss: 0.0962 - val_accuracy: 0.9119\n",
      "\n",
      "Epoch 00071: val_loss did not improve from 0.02069\n",
      "Epoch 72/200\n",
      " - 37s - loss: 0.1183 - accuracy: 0.9530 - val_loss: 0.4406 - val_accuracy: 0.9106\n",
      "\n",
      "Epoch 00072: val_loss did not improve from 0.02069\n",
      "Epoch 73/200\n",
      " - 37s - loss: 0.1163 - accuracy: 0.9543 - val_loss: 0.1546 - val_accuracy: 0.9107\n",
      "\n",
      "Epoch 00073: val_loss did not improve from 0.02069\n",
      "Epoch 74/200\n",
      " - 36s - loss: 0.1151 - accuracy: 0.9544 - val_loss: 0.0855 - val_accuracy: 0.9077\n",
      "\n",
      "Epoch 00074: val_loss did not improve from 0.02069\n",
      "Epoch 75/200\n",
      " - 37s - loss: 0.1128 - accuracy: 0.9553 - val_loss: 0.2704 - val_accuracy: 0.9109\n",
      "\n",
      "Epoch 00075: val_loss did not improve from 0.02069\n",
      "Epoch 76/200\n",
      " - 37s - loss: 0.1117 - accuracy: 0.9549 - val_loss: 0.2666 - val_accuracy: 0.9102\n",
      "\n",
      "Epoch 00076: val_loss did not improve from 0.02069\n",
      "Epoch 77/200\n",
      " - 36s - loss: 0.1113 - accuracy: 0.9550 - val_loss: 0.0917 - val_accuracy: 0.9102\n",
      "\n",
      "Epoch 00077: val_loss did not improve from 0.02069\n",
      "Epoch 78/200\n",
      " - 37s - loss: 0.1099 - accuracy: 0.9564 - val_loss: 0.3479 - val_accuracy: 0.9087\n",
      "\n",
      "Epoch 00078: val_loss did not improve from 0.02069\n",
      "Epoch 79/200\n",
      " - 37s - loss: 0.1078 - accuracy: 0.9567 - val_loss: 0.4246 - val_accuracy: 0.9132\n",
      "\n",
      "Epoch 00079: val_loss did not improve from 0.02069\n",
      "Epoch 80/200\n",
      " - 37s - loss: 0.1065 - accuracy: 0.9579 - val_loss: 0.0267 - val_accuracy: 0.9094\n",
      "\n",
      "Epoch 00080: val_loss did not improve from 0.02069\n",
      "Epoch 81/200\n",
      " - 37s - loss: 0.1051 - accuracy: 0.9585 - val_loss: 0.1816 - val_accuracy: 0.9111\n",
      "\n",
      "Epoch 00081: val_loss did not improve from 0.02069\n",
      "Epoch 82/200\n",
      " - 36s - loss: 0.1024 - accuracy: 0.9597 - val_loss: 0.4633 - val_accuracy: 0.9083\n",
      "\n",
      "Epoch 00082: val_loss did not improve from 0.02069\n",
      "Epoch 83/200\n",
      " - 37s - loss: 0.1033 - accuracy: 0.9590 - val_loss: 0.1068 - val_accuracy: 0.9118\n",
      "\n",
      "Epoch 00083: val_loss did not improve from 0.02069\n",
      "Epoch 84/200\n",
      " - 37s - loss: 0.1008 - accuracy: 0.9603 - val_loss: 0.0045 - val_accuracy: 0.9108\n",
      "\n",
      "Epoch 00084: val_loss improved from 0.02069 to 0.00453, saving model to weights_min_loss.hdf5\n",
      "Epoch 85/200\n",
      " - 37s - loss: 0.0993 - accuracy: 0.9604 - val_loss: 0.7855 - val_accuracy: 0.9100\n",
      "\n",
      "Epoch 00085: val_loss did not improve from 0.00453\n",
      "Epoch 86/200\n",
      " - 37s - loss: 0.0976 - accuracy: 0.9617 - val_loss: 0.2365 - val_accuracy: 0.9114\n",
      "\n",
      "Epoch 00086: val_loss did not improve from 0.00453\n",
      "Epoch 87/200\n",
      " - 36s - loss: 0.0967 - accuracy: 0.9614 - val_loss: 0.3526 - val_accuracy: 0.9122\n",
      "\n",
      "Epoch 00087: val_loss did not improve from 0.00453\n",
      "Epoch 88/200\n",
      " - 37s - loss: 0.0960 - accuracy: 0.9622 - val_loss: 0.1699 - val_accuracy: 0.9108\n",
      "\n",
      "Epoch 00088: val_loss did not improve from 0.00453\n",
      "Epoch 89/200\n",
      " - 36s - loss: 0.0942 - accuracy: 0.9626 - val_loss: 0.0124 - val_accuracy: 0.9126\n",
      "\n",
      "Epoch 00089: val_loss did not improve from 0.00453\n",
      "Epoch 90/200\n",
      " - 36s - loss: 0.0920 - accuracy: 0.9639 - val_loss: 0.0328 - val_accuracy: 0.9089\n",
      "\n",
      "Epoch 00090: val_loss did not improve from 0.00453\n",
      "Epoch 91/200\n",
      " - 36s - loss: 0.0904 - accuracy: 0.9643 - val_loss: 0.0382 - val_accuracy: 0.9118\n",
      "\n",
      "Epoch 00091: val_loss did not improve from 0.00453\n",
      "Epoch 92/200\n",
      " - 36s - loss: 0.0905 - accuracy: 0.9642 - val_loss: 0.5984 - val_accuracy: 0.9090\n",
      "\n",
      "Epoch 00092: val_loss did not improve from 0.00453\n",
      "Epoch 93/200\n",
      " - 36s - loss: 0.0897 - accuracy: 0.9646 - val_loss: 0.1293 - val_accuracy: 0.9115\n",
      "\n",
      "Epoch 00093: val_loss did not improve from 0.00453\n",
      "Epoch 94/200\n",
      " - 37s - loss: 0.0885 - accuracy: 0.9652 - val_loss: 0.6506 - val_accuracy: 0.9102\n",
      "\n",
      "Epoch 00094: val_loss did not improve from 0.00453\n",
      "Epoch 95/200\n",
      " - 36s - loss: 0.0863 - accuracy: 0.9659 - val_loss: 0.0035 - val_accuracy: 0.9100\n",
      "\n",
      "Epoch 00095: val_loss improved from 0.00453 to 0.00349, saving model to weights_min_loss.hdf5\n",
      "Epoch 96/200\n",
      " - 36s - loss: 0.0856 - accuracy: 0.9663 - val_loss: 0.4254 - val_accuracy: 0.9113\n",
      "\n",
      "Epoch 00096: val_loss did not improve from 0.00349\n",
      "Epoch 97/200\n",
      " - 36s - loss: 0.0841 - accuracy: 0.9668 - val_loss: 0.2345 - val_accuracy: 0.9112\n",
      "\n",
      "Epoch 00097: val_loss did not improve from 0.00349\n",
      "Epoch 98/200\n",
      " - 37s - loss: 0.0848 - accuracy: 0.9668 - val_loss: 0.2391 - val_accuracy: 0.9116\n",
      "\n",
      "Epoch 00098: val_loss did not improve from 0.00349\n",
      "Epoch 99/200\n",
      " - 37s - loss: 0.0821 - accuracy: 0.9677 - val_loss: 0.2657 - val_accuracy: 0.9115\n",
      "\n",
      "Epoch 00099: val_loss did not improve from 0.00349\n",
      "Epoch 100/200\n",
      " - 36s - loss: 0.0825 - accuracy: 0.9678 - val_loss: 0.1309 - val_accuracy: 0.9081\n",
      "\n",
      "Epoch 00100: val_loss did not improve from 0.00349\n",
      "Epoch 101/200\n",
      " - 36s - loss: 0.0798 - accuracy: 0.9688 - val_loss: 0.6000 - val_accuracy: 0.9128\n",
      "\n",
      "Epoch 00101: val_loss did not improve from 0.00349\n",
      "Epoch 102/200\n",
      " - 36s - loss: 0.0788 - accuracy: 0.9690 - val_loss: 0.4456 - val_accuracy: 0.9103\n",
      "\n",
      "Epoch 00102: val_loss did not improve from 0.00349\n",
      "Epoch 103/200\n",
      " - 36s - loss: 0.0795 - accuracy: 0.9688 - val_loss: 0.2041 - val_accuracy: 0.9105\n",
      "\n",
      "Epoch 00103: val_loss did not improve from 0.00349\n",
      "Epoch 104/200\n",
      " - 36s - loss: 0.0790 - accuracy: 0.9689 - val_loss: 0.1806 - val_accuracy: 0.9117\n",
      "\n",
      "Epoch 00104: val_loss did not improve from 0.00349\n",
      "Epoch 105/200\n",
      " - 36s - loss: 0.0769 - accuracy: 0.9701 - val_loss: 0.1928 - val_accuracy: 0.9085\n",
      "\n",
      "Epoch 00105: val_loss did not improve from 0.00349\n",
      "Epoch 106/200\n",
      " - 37s - loss: 0.0745 - accuracy: 0.9708 - val_loss: 0.0948 - val_accuracy: 0.9088\n",
      "\n",
      "Epoch 00106: val_loss did not improve from 0.00349\n",
      "Epoch 107/200\n",
      " - 36s - loss: 0.0731 - accuracy: 0.9718 - val_loss: 0.4075 - val_accuracy: 0.9085\n",
      "\n",
      "Epoch 00107: val_loss did not improve from 0.00349\n",
      "Epoch 108/200\n",
      " - 36s - loss: 0.0758 - accuracy: 0.9703 - val_loss: 0.0271 - val_accuracy: 0.9097\n",
      "\n",
      "Epoch 00108: val_loss did not improve from 0.00349\n",
      "Epoch 109/200\n",
      " - 36s - loss: 0.0727 - accuracy: 0.9717 - val_loss: 0.5243 - val_accuracy: 0.9116\n",
      "\n",
      "Epoch 00109: val_loss did not improve from 0.00349\n",
      "Epoch 110/200\n",
      " - 36s - loss: 0.0715 - accuracy: 0.9720 - val_loss: 0.6570 - val_accuracy: 0.9090\n",
      "\n",
      "Epoch 00110: val_loss did not improve from 0.00349\n",
      "Epoch 111/200\n",
      " - 36s - loss: 0.0717 - accuracy: 0.9724 - val_loss: 0.2146 - val_accuracy: 0.9105\n",
      "\n",
      "Epoch 00111: val_loss did not improve from 0.00349\n",
      "Epoch 112/200\n",
      " - 36s - loss: 0.0701 - accuracy: 0.9725 - val_loss: 0.8144 - val_accuracy: 0.9114\n",
      "\n",
      "Epoch 00112: val_loss did not improve from 0.00349\n",
      "Epoch 113/200\n",
      " - 36s - loss: 0.0691 - accuracy: 0.9730 - val_loss: 0.2850 - val_accuracy: 0.9081\n",
      "\n",
      "Epoch 00113: val_loss did not improve from 0.00349\n",
      "Epoch 114/200\n",
      " - 36s - loss: 0.0671 - accuracy: 0.9738 - val_loss: 0.4380 - val_accuracy: 0.9102\n",
      "\n",
      "Epoch 00114: val_loss did not improve from 0.00349\n",
      "Epoch 115/200\n",
      " - 36s - loss: 0.0679 - accuracy: 0.9734 - val_loss: 0.2676 - val_accuracy: 0.9106\n",
      "\n",
      "Epoch 00115: val_loss did not improve from 0.00349\n",
      "Epoch 116/200\n",
      " - 37s - loss: 0.0667 - accuracy: 0.9743 - val_loss: 0.3005 - val_accuracy: 0.9092\n",
      "\n",
      "Epoch 00116: val_loss did not improve from 0.00349\n",
      "Epoch 117/200\n",
      " - 37s - loss: 0.0680 - accuracy: 0.9737 - val_loss: 0.0791 - val_accuracy: 0.9077\n",
      "\n",
      "Epoch 00117: val_loss did not improve from 0.00349\n",
      "Epoch 118/200\n",
      " - 36s - loss: 0.0662 - accuracy: 0.9739 - val_loss: 0.8304 - val_accuracy: 0.9091\n",
      "\n",
      "Epoch 00118: val_loss did not improve from 0.00349\n",
      "Epoch 119/200\n",
      " - 37s - loss: 0.0658 - accuracy: 0.9745 - val_loss: 0.8242 - val_accuracy: 0.9124\n",
      "\n",
      "Epoch 00119: val_loss did not improve from 0.00349\n",
      "Epoch 120/200\n",
      " - 37s - loss: 0.0639 - accuracy: 0.9752 - val_loss: 0.6719 - val_accuracy: 0.9108\n",
      "\n",
      "Epoch 00120: val_loss did not improve from 0.00349\n",
      "Epoch 121/200\n",
      " - 37s - loss: 0.0620 - accuracy: 0.9761 - val_loss: 0.1628 - val_accuracy: 0.9087\n",
      "\n",
      "Epoch 00121: val_loss did not improve from 0.00349\n",
      "Epoch 122/200\n",
      " - 36s - loss: 0.0632 - accuracy: 0.9753 - val_loss: 0.5066 - val_accuracy: 0.9112\n",
      "\n",
      "Epoch 00122: val_loss did not improve from 0.00349\n",
      "Epoch 123/200\n",
      " - 36s - loss: 0.0626 - accuracy: 0.9757 - val_loss: 0.6632 - val_accuracy: 0.9098\n",
      "\n",
      "Epoch 00123: val_loss did not improve from 0.00349\n",
      "Epoch 124/200\n",
      " - 36s - loss: 0.0594 - accuracy: 0.9773 - val_loss: 0.3920 - val_accuracy: 0.9085\n",
      "\n",
      "Epoch 00124: val_loss did not improve from 0.00349\n",
      "Epoch 125/200\n",
      " - 36s - loss: 0.0605 - accuracy: 0.9768 - val_loss: 0.7071 - val_accuracy: 0.9084\n",
      "\n",
      "Epoch 00125: val_loss did not improve from 0.00349\n",
      "Epoch 126/200\n",
      " - 37s - loss: 0.0596 - accuracy: 0.9772 - val_loss: 0.6805 - val_accuracy: 0.9128\n",
      "\n",
      "Epoch 00126: val_loss did not improve from 0.00349\n",
      "Epoch 127/200\n",
      " - 37s - loss: 0.0578 - accuracy: 0.9776 - val_loss: 0.1679 - val_accuracy: 0.9100\n",
      "\n",
      "Epoch 00127: val_loss did not improve from 0.00349\n",
      "Epoch 128/200\n",
      " - 36s - loss: 0.0576 - accuracy: 0.9774 - val_loss: 0.4982 - val_accuracy: 0.9110\n",
      "\n",
      "Epoch 00128: val_loss did not improve from 0.00349\n",
      "Epoch 129/200\n",
      " - 36s - loss: 0.0576 - accuracy: 0.9778 - val_loss: 2.2835e-04 - val_accuracy: 0.9111\n",
      "\n",
      "Epoch 00129: val_loss improved from 0.00349 to 0.00023, saving model to weights_min_loss.hdf5\n",
      "Epoch 130/200\n",
      " - 36s - loss: 0.0570 - accuracy: 0.9777 - val_loss: 0.0528 - val_accuracy: 0.9104\n",
      "\n",
      "Epoch 00130: val_loss did not improve from 0.00023\n",
      "Epoch 131/200\n",
      " - 36s - loss: 0.0569 - accuracy: 0.9779 - val_loss: 0.0251 - val_accuracy: 0.9111\n",
      "\n",
      "Epoch 00131: val_loss did not improve from 0.00023\n",
      "Epoch 132/200\n",
      " - 36s - loss: 0.0569 - accuracy: 0.9780 - val_loss: 0.0826 - val_accuracy: 0.9114\n",
      "\n",
      "Epoch 00132: val_loss did not improve from 0.00023\n",
      "Epoch 133/200\n",
      " - 35s - loss: 0.0560 - accuracy: 0.9783 - val_loss: 0.0019 - val_accuracy: 0.9107\n",
      "\n",
      "Epoch 00133: val_loss did not improve from 0.00023\n",
      "Epoch 134/200\n",
      " - 36s - loss: 0.0530 - accuracy: 0.9796 - val_loss: 0.2340 - val_accuracy: 0.9082\n",
      "\n",
      "Epoch 00134: val_loss did not improve from 0.00023\n",
      "Epoch 135/200\n",
      " - 36s - loss: 0.0551 - accuracy: 0.9789 - val_loss: 0.1947 - val_accuracy: 0.9101\n",
      "\n",
      "Epoch 00135: val_loss did not improve from 0.00023\n",
      "Epoch 136/200\n",
      " - 36s - loss: 0.0551 - accuracy: 0.9786 - val_loss: 0.0419 - val_accuracy: 0.9097\n",
      "\n",
      "Epoch 00136: val_loss did not improve from 0.00023\n",
      "Epoch 137/200\n",
      " - 37s - loss: 0.0526 - accuracy: 0.9799 - val_loss: 0.4041 - val_accuracy: 0.9065\n",
      "\n",
      "Epoch 00137: val_loss did not improve from 0.00023\n",
      "Epoch 138/200\n",
      " - 36s - loss: 0.0520 - accuracy: 0.9803 - val_loss: 0.2982 - val_accuracy: 0.9086\n",
      "\n",
      "Epoch 00138: val_loss did not improve from 0.00023\n",
      "Epoch 139/200\n",
      " - 36s - loss: 0.0507 - accuracy: 0.9807 - val_loss: 0.1756 - val_accuracy: 0.9064\n",
      "\n",
      "Epoch 00139: val_loss did not improve from 0.00023\n",
      "Epoch 140/200\n",
      " - 36s - loss: 0.0512 - accuracy: 0.9803 - val_loss: 0.6236 - val_accuracy: 0.9095\n",
      "\n",
      "Epoch 00140: val_loss did not improve from 0.00023\n",
      "Epoch 141/200\n",
      " - 36s - loss: 0.0513 - accuracy: 0.9801 - val_loss: 0.0021 - val_accuracy: 0.9062\n",
      "\n",
      "Epoch 00141: val_loss did not improve from 0.00023\n",
      "Epoch 142/200\n",
      " - 36s - loss: 0.0505 - accuracy: 0.9805 - val_loss: 0.6123 - val_accuracy: 0.9076\n",
      "\n",
      "Epoch 00142: val_loss did not improve from 0.00023\n",
      "Epoch 143/200\n",
      " - 36s - loss: 0.0491 - accuracy: 0.9809 - val_loss: 0.2207 - val_accuracy: 0.9107\n",
      "\n",
      "Epoch 00143: val_loss did not improve from 0.00023\n",
      "Epoch 144/200\n",
      " - 36s - loss: 0.0493 - accuracy: 0.9812 - val_loss: 0.1428 - val_accuracy: 0.9120\n",
      "\n",
      "Epoch 00144: val_loss did not improve from 0.00023\n",
      "Epoch 145/200\n",
      " - 36s - loss: 0.0496 - accuracy: 0.9806 - val_loss: 0.0648 - val_accuracy: 0.9110\n",
      "\n",
      "Epoch 00145: val_loss did not improve from 0.00023\n",
      "Epoch 146/200\n",
      " - 37s - loss: 0.0473 - accuracy: 0.9815 - val_loss: 1.1437 - val_accuracy: 0.9100\n",
      "\n",
      "Epoch 00146: val_loss did not improve from 0.00023\n",
      "Epoch 147/200\n",
      " - 36s - loss: 0.0490 - accuracy: 0.9814 - val_loss: 0.5763 - val_accuracy: 0.9104\n",
      "\n",
      "Epoch 00147: val_loss did not improve from 0.00023\n",
      "Epoch 148/200\n",
      " - 36s - loss: 0.0473 - accuracy: 0.9820 - val_loss: 0.1643 - val_accuracy: 0.9099\n",
      "\n",
      "Epoch 00148: val_loss did not improve from 0.00023\n",
      "Epoch 149/200\n",
      " - 36s - loss: 0.0485 - accuracy: 0.9818 - val_loss: 0.4235 - val_accuracy: 0.9083\n",
      "\n",
      "Epoch 00149: val_loss did not improve from 0.00023\n",
      "Epoch 150/200\n",
      " - 36s - loss: 0.0463 - accuracy: 0.9823 - val_loss: 0.2965 - val_accuracy: 0.9086\n",
      "\n",
      "Epoch 00150: val_loss did not improve from 0.00023\n",
      "Epoch 151/200\n",
      " - 36s - loss: 0.0453 - accuracy: 0.9826 - val_loss: 0.3002 - val_accuracy: 0.9086\n",
      "\n",
      "Epoch 00151: val_loss did not improve from 0.00023\n",
      "Epoch 152/200\n",
      " - 36s - loss: 0.0455 - accuracy: 0.9823 - val_loss: 0.2818 - val_accuracy: 0.9087\n",
      "\n",
      "Epoch 00152: val_loss did not improve from 0.00023\n",
      "Epoch 153/200\n",
      " - 36s - loss: 0.0443 - accuracy: 0.9831 - val_loss: 0.2842 - val_accuracy: 0.9122\n",
      "\n",
      "Epoch 00153: val_loss did not improve from 0.00023\n",
      "Epoch 154/200\n",
      " - 37s - loss: 0.0453 - accuracy: 0.9827 - val_loss: 0.0797 - val_accuracy: 0.9083\n",
      "\n",
      "Epoch 00154: val_loss did not improve from 0.00023\n",
      "Epoch 155/200\n",
      " - 36s - loss: 0.0448 - accuracy: 0.9828 - val_loss: 0.1524 - val_accuracy: 0.9088\n",
      "\n",
      "Epoch 00155: val_loss did not improve from 0.00023\n",
      "Epoch 156/200\n",
      " - 36s - loss: 0.0441 - accuracy: 0.9833 - val_loss: 0.1769 - val_accuracy: 0.9118\n",
      "\n",
      "Epoch 00156: val_loss did not improve from 0.00023\n",
      "Epoch 157/200\n",
      " - 37s - loss: 0.0452 - accuracy: 0.9827 - val_loss: 0.2367 - val_accuracy: 0.9081\n",
      "\n",
      "Epoch 00157: val_loss did not improve from 0.00023\n",
      "Epoch 158/200\n",
      " - 36s - loss: 0.0447 - accuracy: 0.9827 - val_loss: 0.0040 - val_accuracy: 0.9101\n",
      "\n",
      "Epoch 00158: val_loss did not improve from 0.00023\n",
      "Epoch 159/200\n",
      " - 37s - loss: 0.0426 - accuracy: 0.9835 - val_loss: 0.4220 - val_accuracy: 0.9069\n",
      "\n",
      "Epoch 00159: val_loss did not improve from 0.00023\n",
      "Epoch 160/200\n",
      " - 36s - loss: 0.0422 - accuracy: 0.9843 - val_loss: 0.0026 - val_accuracy: 0.9107\n",
      "\n",
      "Epoch 00160: val_loss did not improve from 0.00023\n",
      "Epoch 161/200\n",
      " - 36s - loss: 0.0419 - accuracy: 0.9841 - val_loss: 0.6718 - val_accuracy: 0.9096\n",
      "\n",
      "Epoch 00161: val_loss did not improve from 0.00023\n",
      "Epoch 162/200\n",
      " - 37s - loss: 0.0415 - accuracy: 0.9842 - val_loss: 0.7965 - val_accuracy: 0.9115\n",
      "\n",
      "Epoch 00162: val_loss did not improve from 0.00023\n",
      "Epoch 163/200\n",
      " - 36s - loss: 0.0416 - accuracy: 0.9840 - val_loss: 0.4556 - val_accuracy: 0.9091\n",
      "\n",
      "Epoch 00163: val_loss did not improve from 0.00023\n",
      "Epoch 164/200\n",
      " - 37s - loss: 0.0403 - accuracy: 0.9846 - val_loss: 0.2030 - val_accuracy: 0.9114\n",
      "\n",
      "Epoch 00164: val_loss did not improve from 0.00023\n",
      "Epoch 165/200\n",
      " - 36s - loss: 0.0410 - accuracy: 0.9843 - val_loss: 0.5128 - val_accuracy: 0.9105\n",
      "\n",
      "Epoch 00165: val_loss did not improve from 0.00023\n",
      "Epoch 166/200\n",
      " - 36s - loss: 0.0413 - accuracy: 0.9843 - val_loss: 0.2727 - val_accuracy: 0.9112\n",
      "\n",
      "Epoch 00166: val_loss did not improve from 0.00023\n",
      "Epoch 167/200\n",
      " - 36s - loss: 0.0419 - accuracy: 0.9840 - val_loss: 0.4207 - val_accuracy: 0.9104\n",
      "\n",
      "Epoch 00167: val_loss did not improve from 0.00023\n",
      "Epoch 168/200\n",
      " - 36s - loss: 0.0394 - accuracy: 0.9852 - val_loss: 0.0049 - val_accuracy: 0.9117\n",
      "\n",
      "Epoch 00168: val_loss did not improve from 0.00023\n",
      "Epoch 169/200\n",
      " - 37s - loss: 0.0381 - accuracy: 0.9860 - val_loss: 0.0065 - val_accuracy: 0.9112\n",
      "\n",
      "Epoch 00169: val_loss did not improve from 0.00023\n",
      "Epoch 170/200\n",
      " - 37s - loss: 0.0387 - accuracy: 0.9854 - val_loss: 0.4251 - val_accuracy: 0.9082\n",
      "\n",
      "Epoch 00170: val_loss did not improve from 0.00023\n",
      "Epoch 171/200\n",
      " - 37s - loss: 0.0405 - accuracy: 0.9845 - val_loss: 0.2788 - val_accuracy: 0.9111\n",
      "\n",
      "Epoch 00171: val_loss did not improve from 0.00023\n",
      "Epoch 172/200\n",
      " - 38s - loss: 0.0384 - accuracy: 0.9852 - val_loss: 0.5604 - val_accuracy: 0.9111\n",
      "\n",
      "Epoch 00172: val_loss did not improve from 0.00023\n",
      "Epoch 173/200\n",
      " - 37s - loss: 0.0390 - accuracy: 0.9856 - val_loss: 0.3678 - val_accuracy: 0.9114\n",
      "\n",
      "Epoch 00173: val_loss did not improve from 0.00023\n",
      "Epoch 174/200\n",
      " - 37s - loss: 0.0379 - accuracy: 0.9853 - val_loss: 0.3593 - val_accuracy: 0.9110\n",
      "\n",
      "Epoch 00174: val_loss did not improve from 0.00023\n",
      "Epoch 175/200\n",
      " - 38s - loss: 0.0385 - accuracy: 0.9852 - val_loss: 0.7245 - val_accuracy: 0.9078\n",
      "\n",
      "Epoch 00175: val_loss did not improve from 0.00023\n",
      "Epoch 176/200\n",
      " - 38s - loss: 0.0379 - accuracy: 0.9855 - val_loss: 0.0161 - val_accuracy: 0.9092\n",
      "\n",
      "Epoch 00176: val_loss did not improve from 0.00023\n",
      "Epoch 177/200\n",
      " - 39s - loss: 0.0376 - accuracy: 0.9857 - val_loss: 0.3334 - val_accuracy: 0.9097\n",
      "\n",
      "Epoch 00177: val_loss did not improve from 0.00023\n",
      "Epoch 178/200\n",
      " - 38s - loss: 0.0368 - accuracy: 0.9860 - val_loss: 0.2888 - val_accuracy: 0.9098\n",
      "\n",
      "Epoch 00178: val_loss did not improve from 0.00023\n",
      "Epoch 179/200\n",
      " - 37s - loss: 0.0358 - accuracy: 0.9859 - val_loss: 0.1699 - val_accuracy: 0.9098\n",
      "\n",
      "Epoch 00179: val_loss did not improve from 0.00023\n",
      "Epoch 180/200\n",
      " - 37s - loss: 0.0362 - accuracy: 0.9861 - val_loss: 0.3730 - val_accuracy: 0.9093\n",
      "\n",
      "Epoch 00180: val_loss did not improve from 0.00023\n",
      "Epoch 181/200\n",
      " - 37s - loss: 0.0371 - accuracy: 0.9862 - val_loss: 0.0480 - val_accuracy: 0.9091\n",
      "\n",
      "Epoch 00181: val_loss did not improve from 0.00023\n",
      "Epoch 182/200\n",
      " - 37s - loss: 0.0359 - accuracy: 0.9865 - val_loss: 0.2565 - val_accuracy: 0.9084\n",
      "\n",
      "Epoch 00182: val_loss did not improve from 0.00023\n",
      "Epoch 183/200\n",
      " - 38s - loss: 0.0351 - accuracy: 0.9869 - val_loss: 0.3002 - val_accuracy: 0.9047\n",
      "\n",
      "Epoch 00183: val_loss did not improve from 0.00023\n",
      "Epoch 184/200\n",
      " - 36s - loss: 0.0357 - accuracy: 0.9863 - val_loss: 0.5976 - val_accuracy: 0.9094\n",
      "\n",
      "Epoch 00184: val_loss did not improve from 0.00023\n",
      "Epoch 185/200\n",
      " - 37s - loss: 0.0355 - accuracy: 0.9862 - val_loss: 0.2648 - val_accuracy: 0.9091\n",
      "\n",
      "Epoch 00185: val_loss did not improve from 0.00023\n",
      "Epoch 186/200\n",
      " - 37s - loss: 0.0355 - accuracy: 0.9866 - val_loss: 0.0559 - val_accuracy: 0.9091\n",
      "\n",
      "Epoch 00186: val_loss did not improve from 0.00023\n",
      "Epoch 187/200\n",
      " - 37s - loss: 0.0342 - accuracy: 0.9870 - val_loss: 0.2842 - val_accuracy: 0.9108\n",
      "\n",
      "Epoch 00187: val_loss did not improve from 0.00023\n",
      "Epoch 188/200\n",
      " - 38s - loss: 0.0358 - accuracy: 0.9864 - val_loss: 0.0133 - val_accuracy: 0.9095\n",
      "\n",
      "Epoch 00188: val_loss did not improve from 0.00023\n",
      "Epoch 189/200\n",
      " - 36s - loss: 0.0345 - accuracy: 0.9866 - val_loss: 0.3376 - val_accuracy: 0.9109\n",
      "\n",
      "Epoch 00189: val_loss did not improve from 0.00023\n",
      "Epoch 190/200\n",
      " - 37s - loss: 0.0353 - accuracy: 0.9869 - val_loss: 1.0476 - val_accuracy: 0.9099\n",
      "\n",
      "Epoch 00190: val_loss did not improve from 0.00023\n",
      "Epoch 191/200\n",
      " - 37s - loss: 0.0329 - accuracy: 0.9876 - val_loss: 0.4378 - val_accuracy: 0.9097\n",
      "\n",
      "Epoch 00191: val_loss did not improve from 0.00023\n",
      "Epoch 192/200\n",
      " - 37s - loss: 0.0334 - accuracy: 0.9871 - val_loss: 0.3584 - val_accuracy: 0.9127\n",
      "\n",
      "Epoch 00192: val_loss did not improve from 0.00023\n",
      "Epoch 193/200\n",
      " - 38s - loss: 0.0345 - accuracy: 0.9870 - val_loss: 0.2161 - val_accuracy: 0.9117\n",
      "\n",
      "Epoch 00193: val_loss did not improve from 0.00023\n",
      "Epoch 194/200\n",
      " - 37s - loss: 0.0334 - accuracy: 0.9875 - val_loss: 0.0907 - val_accuracy: 0.9110\n",
      "\n",
      "Epoch 00194: val_loss did not improve from 0.00023\n",
      "Epoch 195/200\n",
      " - 37s - loss: 0.0327 - accuracy: 0.9876 - val_loss: 1.1185 - val_accuracy: 0.9117\n",
      "\n",
      "Epoch 00195: val_loss did not improve from 0.00023\n",
      "Epoch 196/200\n",
      " - 38s - loss: 0.0325 - accuracy: 0.9877 - val_loss: 0.0596 - val_accuracy: 0.9110\n",
      "\n",
      "Epoch 00196: val_loss did not improve from 0.00023\n",
      "Epoch 197/200\n",
      " - 37s - loss: 0.0324 - accuracy: 0.9877 - val_loss: 0.4704 - val_accuracy: 0.9072\n",
      "\n",
      "Epoch 00197: val_loss did not improve from 0.00023\n",
      "Epoch 198/200\n",
      " - 38s - loss: 0.0331 - accuracy: 0.9873 - val_loss: 0.0322 - val_accuracy: 0.9117\n",
      "\n",
      "Epoch 00198: val_loss did not improve from 0.00023\n",
      "Epoch 199/200\n",
      " - 37s - loss: 0.0323 - accuracy: 0.9875 - val_loss: 0.4048 - val_accuracy: 0.9104\n",
      "\n",
      "Epoch 00199: val_loss did not improve from 0.00023\n",
      "Epoch 200/200\n",
      " - 37s - loss: 0.0323 - accuracy: 0.9878 - val_loss: 0.2973 - val_accuracy: 0.9057\n",
      "\n",
      "Epoch 00200: val_loss did not improve from 0.00023\n"
     ]
    }
   ],
   "source": [
    "# we iterate 200 times over the entire training set\n",
    "num_epochs = 200  \n",
    "history = model.fit_generator(train_flow, \n",
    "                    steps_per_epoch=len(X_train) / batch_size, \n",
    "                    epochs=num_epochs,  \n",
    "                    verbose=2,  \n",
    "                    callbacks=callbacks_list,\n",
    "                    validation_data=val_flow,  \n",
    "                    validation_steps=len(X_val) / batch_size)"
   ]
  },
  {
   "cell_type": "markdown",
   "metadata": {},
   "source": [
    "# Checking the performance of the model"
   ]
  },
  {
   "cell_type": "code",
   "execution_count": 19,
   "metadata": {},
   "outputs": [
    {
     "data": {
      "text/plain": [
       "<Figure size 432x288 with 0 Axes>"
      ]
     },
     "execution_count": 19,
     "metadata": {},
     "output_type": "execute_result"
    },
    {
     "data": {
      "image/png": "[encoded data removed]",
      "text/plain": [
       "<Figure size 432x288 with 1 Axes>"
      ]
     },
     "metadata": {
      "needs_background": "light"
     },
     "output_type": "display_data"
    },
    {
     "data": {
      "image/png": "[encoded data removed]",
      "text/plain": [
       "<Figure size 432x288 with 1 Axes>"
      ]
     },
     "metadata": {
      "needs_background": "light"
     },
     "output_type": "display_data"
    },
    {
     "data": {
      "text/plain": [
       "<Figure size 432x288 with 0 Axes>"
      ]
     },
     "metadata": {},
     "output_type": "display_data"
    }
   ],
   "source": [
    "%matplotlib inline\n",
    "\n",
    "train_loss=history.history['loss']\n",
    "val_loss=history.history['val_loss']\n",
    "train_acc=history.history['accuracy']\n",
    "val_acc=history.history['val_accuracy']\n",
    "\n",
    "epochs = range(len(train_acc))\n",
    "\n",
    "plt.plot(epochs,train_loss,'r', label='train_loss')\n",
    "plt.plot(epochs,val_loss,'b', label='val_loss')\n",
    "plt.title('train_loss vs val_loss')\n",
    "plt.xlabel('epoch')\n",
    "plt.ylabel('loss')\n",
    "plt.legend()\n",
    "plt.figure()\n",
    "\n",
    "plt.plot(epochs,train_acc,'r', label='train_acc')\n",
    "plt.plot(epochs,val_acc,'b', label='val_acc')\n",
    "plt.title('train_acc vs val_acc')\n",
    "plt.xlabel('epoch')\n",
    "plt.ylabel('accuracy')\n",
    "plt.legend()\n",
    "plt.figure()"
   ]
  },
  {
   "cell_type": "code",
   "execution_count": 20,
   "metadata": {},
   "outputs": [
    {
     "name": "stdout",
     "output_type": "stream",
     "text": [
      "Test Loss 0.19092723727226257\n",
      "Test Acc: 0.9066193699836731\n"
     ]
    }
   ],
   "source": [
    "loss = model.evaluate_generator(test_flow, steps=len(X_test) / batch_size) \n",
    "print(\"Test Loss \" + str(loss[0]))\n",
    "print(\"Test Acc: \" + str(loss[1]))"
   ]
  },
  {
   "cell_type": "code",
   "execution_count": 21,
   "metadata": {},
   "outputs": [],
   "source": [
    "model.save('../working/Fer2013.h5')"
   ]
  },
  {
   "cell_type": "code",
   "execution_count": 22,
   "metadata": {},
   "outputs": [
    {
     "name": "stdout",
     "output_type": "stream",
     "text": [
      "3589/3589 [==============================] - 2s 454us/step\n",
      "Test Loss 0.3971504122143371\n",
      "Test Acc: 0.9066194891929626\n"
     ]
    }
   ],
   "source": [
    "loss = model.evaluate(X_test/255., y_test) \n",
    "print(\"Test Loss \" + str(loss[0]))\n",
    "print(\"Test Acc: \" + str(loss[1]))"
   ]
  },
  {
   "cell_type": "code",
   "execution_count": 23,
   "metadata": {},
   "outputs": [
    {
     "name": "stdout",
     "output_type": "stream",
     "text": [
      "3589/3589 [==============================] - 2s 426us/step\n",
      "Test Loss 0.41771654660537666\n",
      "Test Acc: 0.9057037830352783\n"
     ]
    }
   ],
   "source": [
    "loss = model.evaluate(X_val/255., y_val) \n",
    "print(\"Test Loss \" + str(loss[0]))\n",
    "print(\"Test Acc: \" + str(loss[1]))"
   ]
  },
  {
   "cell_type": "code",
   "execution_count": 24,
   "metadata": {},
   "outputs": [],
   "source": [
    "def plot_confusion_matrix(y_test, y_pred, classes,\n",
    "                          normalize=False,\n",
    "                          title='Unnormalized confusion matrix',\n",
    "                          cmap=plt.cm.Blues):\n",
    "    cm = confusion_matrix(y_test, y_pred)\n",
    "    \n",
    "    if normalize:\n",
    "        cm = np.round(cm.astype('float') / cm.sum(axis=1)[:, np.newaxis], 2)\n",
    "        \n",
    "    np.set_printoptions(precision=2)\n",
    "        \n",
    "    plt.imshow(cm, interpolation='nearest', cmap=cmap)\n",
    "    plt.title(title)\n",
    "    plt.colorbar()\n",
    "    tick_marks = np.arange(len(classes))\n",
    "    plt.xticks(tick_marks, classes, rotation=45)\n",
    "    plt.yticks(tick_marks, classes)\n",
    "\n",
    "    thresh = cm.min() + (cm.max() - cm.min()) / 2.\n",
    "    for i, j in itertools.product(range(cm.shape[0]), range(cm.shape[1])):\n",
    "        plt.text(j, i, cm[i, j],\n",
    "                 horizontalalignment=\"center\",\n",
    "                 color=\"white\" if cm[i, j] > thresh else \"black\")\n",
    "\n",
    "    plt.tight_layout()\n",
    "    plt.ylabel('True expression')\n",
    "    plt.xlabel('Predicted expression')\n",
    "    plt.show()"
   ]
  },
  {
   "cell_type": "code",
   "execution_count": 25,
   "metadata": {},
   "outputs": [
    {
     "name": "stdout",
     "output_type": "stream",
     "text": [
      "3589/3589 [==============================] - 2s 568us/step\n"
     ]
    }
   ],
   "source": [
    "y_pred_ = model.predict(X_test/255., verbose=1)\n",
    "y_pred = np.argmax(y_pred_, axis=1)\n",
    "t_te = np.argmax(y_test, axis=1)"
   ]
  },
  {
   "cell_type": "code",
   "execution_count": 26,
   "metadata": {},
   "outputs": [
    {
     "data": {
      "image/png": "[encoded data removed]",
      "text/plain": [
       "<Figure size 432x288 with 2 Axes>"
      ]
     },
     "metadata": {
      "needs_background": "light"
     },
     "output_type": "display_data"
    }
   ],
   "source": [
    "fig = plot_confusion_matrix(y_test=t_te, y_pred=y_pred,\n",
    "                      classes=classes,\n",
    "                      normalize=True,\n",
    "                      cmap=plt.cm.Greys,\n",
    "                      title='Average accuracy: ' + str(np.sum(y_pred == t_te)/len(t_te)) + '\\n')"
   ]
  }
 ],
 "metadata": {
  "kernelspec": {
   "display_name": "Python 3",
   "language": "python",
   "name": "python3"
  },
  "language_info": {
   "codemirror_mode": {
    "name": "ipython",
    "version": 3
   },
   "file_extension": ".py",
   "mimetype": "text/x-python",
   "name": "python",
   "nbconvert_exporter": "python",
   "pygments_lexer": "ipython3",
   "version": "3.6.6"
  }
 },
 "nbformat": 4,
 "nbformat_minor": 4
}
