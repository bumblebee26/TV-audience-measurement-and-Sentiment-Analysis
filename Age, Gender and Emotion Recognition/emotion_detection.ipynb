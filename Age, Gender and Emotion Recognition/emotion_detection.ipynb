{
  "nbformat": 4,
  "nbformat_minor": 0,
  "metadata": {
    "kernelspec": {
      "display_name": "Python 3",
      "language": "python",
      "name": "python3"
    },
    "language_info": {
      "codemirror_mode": {
        "name": "ipython",
        "version": 3
      },
      "file_extension": ".py",
      "mimetype": "text/x-python",
      "name": "python",
      "nbconvert_exporter": "python",
      "pygments_lexer": "ipython3",
      "version": "3.6.6"
    },
    "colab": {
      "name": "emotion-detection.ipynb",
      "provenance": [],
      "collapsed_sections": []
    },
    "accelerator": "GPU"
  },
  "cells": [
    {
      "cell_type": "code",
      "metadata": {
        "id": "RYOQei0U2YYe",
        "colab_type": "code",
        "colab": {
          "base_uri": "https://localhost:8080/",
          "height": 35
        },
        "outputId": "e9dbf27e-32d6-4927-a4ba-46b03c23fff9"
      },
      "source": [
        "from google.colab import drive\n",
        "import zipfile\n",
        "drive.mount('/content/drive/')\n",
        "\n",
        "zip_ref = zipfile.ZipFile(\"/content/drive/My Drive/Colab Notebooks/FER_dataset.zip\", 'r')\n",
        "zip_ref.extractall(\"/tmp\")\n",
        "zip_ref.close()"
      ],
      "execution_count": 1,
      "outputs": [
        {
          "output_type": "stream",
          "text": [
            "Drive already mounted at /content/drive/; to attempt to forcibly remount, call drive.mount(\"/content/drive/\", force_remount=True).\n"
          ],
          "name": "stdout"
        }
      ]
    },
    {
      "cell_type": "code",
      "metadata": {
        "_cell_guid": "b1076dfc-b9ad-4769-8c92-a6c4dae69d19",
        "_uuid": "8f2839f25d086af736a60e9eeb907d3b93b6e0e5",
        "id": "pf_TJ1dpzbQi",
        "colab_type": "code",
        "colab": {
          "base_uri": "https://localhost:8080/",
          "height": 72
        },
        "outputId": "280f1659-7b9a-4a2e-e6ab-79f00b14aa86"
      },
      "source": [
        "# This Python 3 environment comes with many helpful analytics libraries installed\n",
        "# It is defined by the kaggle/python docker image: https://github.com/kaggle/docker-python\n",
        "# For example, here's several helpful packages to load in \n",
        "\n",
        "import numpy as np # linear algebra\n",
        "import pandas as pd # data processing, CSV file I/O (e.g. pd.read_csv)\n",
        "\n",
        "# Input data files are available in the \"../input/\" directory.\n",
        "# For example, running this (by clicking run or pressing Shift+Enter) will list all files under the input directory\n",
        "\n",
        "import os\n",
        "for dirname, _, filenames in os.walk('/tmp/fer2013'):\n",
        "    for filename in filenames:\n",
        "        print(os.path.join(dirname, filename))\n",
        "\n",
        "# Any results you write to the current directory are saved as output."
      ],
      "execution_count": 50,
      "outputs": [
        {
          "output_type": "stream",
          "text": [
            "/tmp/fer2013/fer2013/README\n",
            "/tmp/fer2013/fer2013/fer2013.bib\n",
            "/tmp/fer2013/fer2013/fer2013.csv\n"
          ],
          "name": "stdout"
        }
      ]
    },
    {
      "cell_type": "code",
      "metadata": {
        "id": "dLkhkzBgJ9I8",
        "colab_type": "code",
        "colab": {}
      },
      "source": [
        "import os\n",
        "import cv2\n",
        "import math\n",
        "import numpy as np\n",
        "import pandas as pd\n",
        "\n",
        "import seaborn as sns\n",
        "from matplotlib import pyplot\n",
        "\n",
        "from sklearn.preprocessing import LabelEncoder\n",
        "from sklearn.model_selection import train_test_split\n",
        "from sklearn.metrics import classification_report\n",
        "from sklearn.metrics import confusion_matrix\n",
        "from sklearn.metrics import plot_confusion_matrix\n",
        "\n",
        "import tensorflow as tf\n",
        "from keras import optimizers\n",
        "from keras.datasets import mnist\n",
        "from keras.models import Sequential\n",
        "from keras.layers import Flatten, Dense, Conv2D, MaxPooling2D\n",
        "from keras.layers import Dropout, BatchNormalization, LeakyReLU, Activation\n",
        "from keras.callbacks import Callback, EarlyStopping, ReduceLROnPlateau\n",
        "from keras.preprocessing.image import ImageDataGenerator\n",
        "\n",
        "from keras.utils import np_utils"
      ],
      "execution_count": 18,
      "outputs": []
    },
    {
      "cell_type": "code",
      "metadata": {
        "id": "GPk-l32BzbSX",
        "colab_type": "code",
        "colab": {}
      },
      "source": [
        "from keras.utils import plot_model\n",
        "from keras.models import Model\n",
        "from keras.layers import Input, Dense, Flatten, Dropout, BatchNormalization\n",
        "from keras.layers.convolutional import Conv2D\n",
        "from keras.layers.pooling import MaxPooling2D\n",
        "from keras.layers.merge import concatenate\n",
        "from keras.optimizers import Adam, SGD\n",
        "from keras.regularizers import l1, l2\n",
        "from matplotlib import pyplot as plt\n",
        "from sklearn.metrics import confusion_matrix\n",
        "from sklearn.metrics import classification_report, cohen_kappa_score, matthews_corrcoef"
      ],
      "execution_count": 19,
      "outputs": []
    },
    {
      "cell_type": "code",
      "metadata": {
        "id": "o8ZSEJTeJ9FD",
        "colab_type": "code",
        "colab": {
          "base_uri": "https://localhost:8080/",
          "height": 206
        },
        "outputId": "b865fd76-4684-4d07-f722-aab3db12a252"
      },
      "source": [
        "#Loading the dataset\n",
        "df = pd.read_csv('/tmp/fer2013/fer2013/fer2013.csv')\n",
        "df.head()"
      ],
      "execution_count": 20,
      "outputs": [
        {
          "output_type": "execute_result",
          "data": {
            "text/html": [
              "<div>\n",
              "<style scoped>\n",
              "    .dataframe tbody tr th:only-of-type {\n",
              "        vertical-align: middle;\n",
              "    }\n",
              "\n",
              "    .dataframe tbody tr th {\n",
              "        vertical-align: top;\n",
              "    }\n",
              "\n",
              "    .dataframe thead th {\n",
              "        text-align: right;\n",
              "    }\n",
              "</style>\n",
              "<table border=\"1\" class=\"dataframe\">\n",
              "  <thead>\n",
              "    <tr style=\"text-align: right;\">\n",
              "      <th></th>\n",
              "      <th>emotion</th>\n",
              "      <th>pixels</th>\n",
              "      <th>Usage</th>\n",
              "    </tr>\n",
              "  </thead>\n",
              "  <tbody>\n",
              "    <tr>\n",
              "      <th>0</th>\n",
              "      <td>0</td>\n",
              "      <td>70 80 82 72 58 58 60 63 54 58 60 48 89 115 121...</td>\n",
              "      <td>Training</td>\n",
              "    </tr>\n",
              "    <tr>\n",
              "      <th>1</th>\n",
              "      <td>0</td>\n",
              "      <td>151 150 147 155 148 133 111 140 170 174 182 15...</td>\n",
              "      <td>Training</td>\n",
              "    </tr>\n",
              "    <tr>\n",
              "      <th>2</th>\n",
              "      <td>2</td>\n",
              "      <td>231 212 156 164 174 138 161 173 182 200 106 38...</td>\n",
              "      <td>Training</td>\n",
              "    </tr>\n",
              "    <tr>\n",
              "      <th>3</th>\n",
              "      <td>4</td>\n",
              "      <td>24 32 36 30 32 23 19 20 30 41 21 22 32 34 21 1...</td>\n",
              "      <td>Training</td>\n",
              "    </tr>\n",
              "    <tr>\n",
              "      <th>4</th>\n",
              "      <td>6</td>\n",
              "      <td>4 0 0 0 0 0 0 0 0 0 0 0 3 15 23 28 48 50 58 84...</td>\n",
              "      <td>Training</td>\n",
              "    </tr>\n",
              "  </tbody>\n",
              "</table>\n",
              "</div>"
            ],
            "text/plain": [
              "   emotion                                             pixels     Usage\n",
              "0        0  70 80 82 72 58 58 60 63 54 58 60 48 89 115 121...  Training\n",
              "1        0  151 150 147 155 148 133 111 140 170 174 182 15...  Training\n",
              "2        2  231 212 156 164 174 138 161 173 182 200 106 38...  Training\n",
              "3        4  24 32 36 30 32 23 19 20 30 41 21 22 32 34 21 1...  Training\n",
              "4        6  4 0 0 0 0 0 0 0 0 0 0 0 3 15 23 28 48 50 58 84...  Training"
            ]
          },
          "metadata": {
            "tags": []
          },
          "execution_count": 20
        }
      ]
    },
    {
      "cell_type": "code",
      "metadata": {
        "id": "7nJawFstJ9DU",
        "colab_type": "code",
        "colab": {
          "base_uri": "https://localhost:8080/",
          "height": 35
        },
        "outputId": "aa79e3e1-55fc-45db-db72-58393e062af5"
      },
      "source": [
        "df.shape"
      ],
      "execution_count": 21,
      "outputs": [
        {
          "output_type": "execute_result",
          "data": {
            "text/plain": [
              "(35887, 3)"
            ]
          },
          "metadata": {
            "tags": []
          },
          "execution_count": 21
        }
      ]
    },
    {
      "cell_type": "code",
      "metadata": {
        "id": "vG94zS-oJ9B8",
        "colab_type": "code",
        "colab": {}
      },
      "source": [
        "emotion_label_to_text = {0:'anger', 1:'disgust', 2:'fear', 3:'happiness', 4: 'sadness', 5: 'surprise', 6: 'neutral'}"
      ],
      "execution_count": 22,
      "outputs": []
    },
    {
      "cell_type": "code",
      "metadata": {
        "id": "uOIGn0ueJ8_e",
        "colab_type": "code",
        "colab": {
          "base_uri": "https://localhost:8080/",
          "height": 162
        },
        "outputId": "f786ef5b-f937-4a16-bf25-225cc75b617e"
      },
      "source": [
        "df.emotion.value_counts()"
      ],
      "execution_count": 23,
      "outputs": [
        {
          "output_type": "execute_result",
          "data": {
            "text/plain": [
              "3    8989\n",
              "6    6198\n",
              "4    6077\n",
              "2    5121\n",
              "0    4953\n",
              "5    4002\n",
              "1     547\n",
              "Name: emotion, dtype: int64"
            ]
          },
          "metadata": {
            "tags": []
          },
          "execution_count": 23
        }
      ]
    },
    {
      "cell_type": "code",
      "metadata": {
        "id": "9XmxIB8VJ87W",
        "colab_type": "code",
        "colab": {
          "base_uri": "https://localhost:8080/",
          "height": 279
        },
        "outputId": "fd0219b7-7d3f-4533-af3c-20e70d09c82e"
      },
      "source": [
        "sns.countplot(df.emotion)\n",
        "pyplot.show()"
      ],
      "execution_count": 24,
      "outputs": [
        {
          "output_type": "display_data",
          "data": {
            "image/png": "[encoded data removed]",
            "text/plain": [
              "<Figure size 432x288 with 1 Axes>"
            ]
          },
          "metadata": {
            "tags": [],
            "needs_background": "light"
          }
        }
      ]
    },
    {
      "cell_type": "code",
      "metadata": {
        "id": "NYnxsZAtJ83N",
        "colab_type": "code",
        "colab": {}
      },
      "source": [
        "img_array = df.pixels.apply(lambda x: np.array(x.split(' ')).reshape(48, 48, 1).astype('float32'))\n",
        "img_array = np.stack(img_array, axis=0)"
      ],
      "execution_count": 25,
      "outputs": []
    },
    {
      "cell_type": "code",
      "metadata": {
        "id": "-NalMtTNJ819",
        "colab_type": "code",
        "colab": {
          "base_uri": "https://localhost:8080/",
          "height": 35
        },
        "outputId": "cefdbbfb-7feb-49a2-ba70-ea99c091d66b"
      },
      "source": [
        "img_array.shape"
      ],
      "execution_count": 26,
      "outputs": [
        {
          "output_type": "execute_result",
          "data": {
            "text/plain": [
              "(35887, 48, 48, 1)"
            ]
          },
          "metadata": {
            "tags": []
          },
          "execution_count": 26
        }
      ]
    },
    {
      "cell_type": "code",
      "metadata": {
        "id": "yMGi4T3LJ80i",
        "colab_type": "code",
        "colab": {
          "base_uri": "https://localhost:8080/",
          "height": 35
        },
        "outputId": "ae7b981b-9a95-49fd-9460-bac4da081f46"
      },
      "source": [
        "le = LabelEncoder()\n",
        "img_labels = le.fit_transform(df.emotion)\n",
        "img_labels = np_utils.to_categorical(img_labels)\n",
        "img_labels.shape"
      ],
      "execution_count": 27,
      "outputs": [
        {
          "output_type": "execute_result",
          "data": {
            "text/plain": [
              "(35887, 7)"
            ]
          },
          "metadata": {
            "tags": []
          },
          "execution_count": 27
        }
      ]
    },
    {
      "cell_type": "code",
      "metadata": {
        "id": "U_oMycekJ8yZ",
        "colab_type": "code",
        "colab": {
          "base_uri": "https://localhost:8080/",
          "height": 35
        },
        "outputId": "92500675-5ef3-4fe8-ee93-c452aed63833"
      },
      "source": [
        "# le_name_mapping = dict(zip(le.classes_, le.transform(le.classes_)))\n",
        "print(le.transform(le.classes_))"
      ],
      "execution_count": 28,
      "outputs": [
        {
          "output_type": "stream",
          "text": [
            "[0 1 2 3 4 5 6]\n"
          ],
          "name": "stdout"
        }
      ]
    },
    {
      "cell_type": "code",
      "metadata": {
        "id": "Q1sowIGuJ8w1",
        "colab_type": "code",
        "colab": {
          "base_uri": "https://localhost:8080/",
          "height": 35
        },
        "outputId": "1e350f4e-4db9-48ed-d66f-2fb0bdd1f3b0"
      },
      "source": [
        "X_train, X_valid, y_train, y_valid = train_test_split(img_array, img_labels,\n",
        "                                                    shuffle=True, stratify=img_labels,\n",
        "                                                    test_size=0.1, random_state=42)\n",
        "X_train.shape, X_valid.shape, y_train.shape, y_valid.shape"
      ],
      "execution_count": 29,
      "outputs": [
        {
          "output_type": "execute_result",
          "data": {
            "text/plain": [
              "((32298, 48, 48, 1), (3589, 48, 48, 1), (32298, 7), (3589, 7))"
            ]
          },
          "metadata": {
            "tags": []
          },
          "execution_count": 29
        }
      ]
    },
    {
      "cell_type": "code",
      "metadata": {
        "id": "htiT1X5qJ8qD",
        "colab_type": "code",
        "colab": {}
      },
      "source": [
        "img_width = X_train.shape[1]\n",
        "img_height = X_train.shape[2]\n",
        "img_depth = X_train.shape[3]\n",
        "num_classes = y_train.shape[1]"
      ],
      "execution_count": 30,
      "outputs": []
    },
    {
      "cell_type": "code",
      "metadata": {
        "id": "-hwbn97JLsUm",
        "colab_type": "code",
        "colab": {}
      },
      "source": [
        "# Normalizing image arrays\n",
        "X_train = X_train / 255.\n",
        "X_valid = X_valid / 255."
      ],
      "execution_count": 31,
      "outputs": []
    },
    {
      "cell_type": "code",
      "metadata": {
        "id": "8bMnqI5P5VDi",
        "colab_type": "code",
        "colab": {}
      },
      "source": [
        "def build_net(optim):\n",
        "    \"\"\"\n",
        "    This is a Deep Convolutional Neural Network (DCNN). For generalization purpose I used dropouts in regular intervals.\n",
        "    I used `ELU` as the activation because it avoids dying relu problem but also performed well as compared to LeakyRelu\n",
        "    atleast in this case. `he_normal` kernel initializer is used as it suits ELU. BatchNormalization is also used for better\n",
        "    results.\n",
        "    \"\"\"\n",
        "    net = Sequential(name='DCNN')\n",
        "\n",
        "    net.add(\n",
        "        Conv2D(\n",
        "            filters=64,\n",
        "            kernel_size=(5,5),\n",
        "            input_shape=(img_width, img_height, img_depth),\n",
        "            activation='elu',\n",
        "            padding='same',\n",
        "            kernel_initializer='he_normal',\n",
        "            name='conv2d_1'\n",
        "        )\n",
        "    )\n",
        "    net.add(BatchNormalization(name='batchnorm_1'))\n",
        "    net.add(\n",
        "        Conv2D(\n",
        "            filters=64,\n",
        "            kernel_size=(5,5),\n",
        "            activation='elu',\n",
        "            padding='same',\n",
        "            kernel_initializer='he_normal',\n",
        "            name='conv2d_2'\n",
        "        )\n",
        "    )\n",
        "    net.add(BatchNormalization(name='batchnorm_2'))\n",
        "    \n",
        "    net.add(MaxPooling2D(pool_size=(2,2), name='maxpool2d_1'))\n",
        "    net.add(Dropout(0.4, name='dropout_1'))\n",
        "\n",
        "    net.add(\n",
        "        Conv2D(\n",
        "            filters=128,\n",
        "            kernel_size=(3,3),\n",
        "            activation='elu',\n",
        "            padding='same',\n",
        "            kernel_initializer='he_normal',\n",
        "            name='conv2d_3'\n",
        "        )\n",
        "    )\n",
        "    net.add(BatchNormalization(name='batchnorm_3'))\n",
        "    net.add(\n",
        "        Conv2D(\n",
        "            filters=128,\n",
        "            kernel_size=(3,3),\n",
        "            activation='elu',\n",
        "            padding='same',\n",
        "            kernel_initializer='he_normal',\n",
        "            name='conv2d_4'\n",
        "        )\n",
        "    )\n",
        "    net.add(BatchNormalization(name='batchnorm_4'))\n",
        "    \n",
        "    net.add(MaxPooling2D(pool_size=(2,2), name='maxpool2d_2'))\n",
        "    net.add(Dropout(0.4, name='dropout_2'))\n",
        "\n",
        "    net.add(\n",
        "        Conv2D(\n",
        "            filters=256,\n",
        "            kernel_size=(3,3),\n",
        "            activation='elu',\n",
        "            padding='same',\n",
        "            kernel_initializer='he_normal',\n",
        "            name='conv2d_5'\n",
        "        )\n",
        "    )\n",
        "    net.add(BatchNormalization(name='batchnorm_5'))\n",
        "    net.add(\n",
        "        Conv2D(\n",
        "            filters=256,\n",
        "            kernel_size=(3,3),\n",
        "            activation='elu',\n",
        "            padding='same',\n",
        "            kernel_initializer='he_normal',\n",
        "            name='conv2d_6'\n",
        "        )\n",
        "    )\n",
        "    net.add(BatchNormalization(name='batchnorm_6'))\n",
        "    \n",
        "    net.add(MaxPooling2D(pool_size=(2,2), name='maxpool2d_3'))\n",
        "    net.add(Dropout(0.5, name='dropout_3'))\n",
        "\n",
        "    net.add(Flatten(name='flatten'))\n",
        "        \n",
        "    net.add(\n",
        "        Dense(\n",
        "            128,\n",
        "            activation='elu',\n",
        "            kernel_initializer='he_normal',\n",
        "            name='dense_1'\n",
        "        )\n",
        "    )\n",
        "    net.add(BatchNormalization(name='batchnorm_7'))\n",
        "    \n",
        "    net.add(Dropout(0.6, name='dropout_4'))\n",
        "    \n",
        "    net.add(\n",
        "        Dense(\n",
        "            num_classes,\n",
        "            activation='softmax',\n",
        "            name='out_layer'\n",
        "        )\n",
        "    )\n",
        "    \n",
        "    net.compile(\n",
        "        loss='categorical_crossentropy',\n",
        "        optimizer=optim,\n",
        "        metrics=['accuracy']\n",
        "    )\n",
        "    \n",
        "    net.summary()\n",
        "    \n",
        "    return net"
      ],
      "execution_count": 32,
      "outputs": []
    },
    {
      "cell_type": "code",
      "metadata": {
        "id": "hgTdEvdLLsOp",
        "colab_type": "code",
        "colab": {}
      },
      "source": [
        "\"\"\"\n",
        "I used two callbacks one is `early stopping` for avoiding overfitting training data\n",
        "and other `ReduceLROnPlateau` for learning rate.\n",
        "\"\"\"\n",
        "\n",
        "early_stopping = EarlyStopping(\n",
        "    monitor='val_accuracy',\n",
        "    min_delta=0.00005,\n",
        "    patience=11,\n",
        "    verbose=1,\n",
        "    restore_best_weights=True,\n",
        ")\n",
        "\n",
        "lr_scheduler = ReduceLROnPlateau(\n",
        "    monitor='val_accuracy',\n",
        "    factor=0.5,\n",
        "    patience=7,\n",
        "    min_lr=1e-7,\n",
        "    verbose=1,\n",
        ")\n",
        "\n",
        "callbacks = [\n",
        "    early_stopping,\n",
        "    lr_scheduler,\n",
        "]\n",
        "# from keras.callbacks import ModelCheckpoint\n",
        "# filepath=\"weights_min_loss.hdf5\"\n",
        "# checkpoint = ModelCheckpoint(filepath, monitor='loss', verbose=1, save_best_only=True, mode='min')\n",
        "# callbacks = [checkpoint]"
      ],
      "execution_count": 33,
      "outputs": []
    },
    {
      "cell_type": "code",
      "metadata": {
        "id": "7PAUzZclLsNY",
        "colab_type": "code",
        "colab": {}
      },
      "source": [
        "# As the data in hand is less as compared to the task so ImageDataGenerator is good to go.\n",
        "train_datagen = ImageDataGenerator(\n",
        "    rotation_range=15,\n",
        "    width_shift_range=0.15,\n",
        "    height_shift_range=0.15,\n",
        "    shear_range=0.15,\n",
        "    zoom_range=0.15,\n",
        "    horizontal_flip=True,\n",
        ")\n",
        "train_datagen.fit(X_train)"
      ],
      "execution_count": 34,
      "outputs": []
    },
    {
      "cell_type": "code",
      "metadata": {
        "id": "E6pBXxKjLsKM",
        "colab_type": "code",
        "colab": {
          "base_uri": "https://localhost:8080/",
          "height": 1000
        },
        "outputId": "1f2ac71e-1670-4fff-b79d-618cbda69886"
      },
      "source": [
        "batch_size = 64 #batch size of 32 performs the best.\n",
        "epochs = 250\n",
        "optims = [\n",
        "    optimizers.Nadam(learning_rate=0.001, beta_1=0.9, beta_2=0.999, epsilon=1e-07),\n",
        "    optimizers.Adam(0.001),\n",
        "]\n",
        "\n",
        "# I tried both `Nadam` and `Adam`, the difference in results is not different but I finally went with Nadam as it is more popular.\n",
        "model = build_net(optims[1]) \n",
        "history = model.fit_generator(\n",
        "    train_datagen.flow(X_train, y_train, batch_size=batch_size),\n",
        "    validation_data=(X_valid, y_valid),\n",
        "    steps_per_epoch=len(X_train) / batch_size,\n",
        "    epochs=epochs,\n",
        "    callbacks=callbacks,\n",
        "    use_multiprocessing=True\n",
        ")"
      ],
      "execution_count": 35,
      "outputs": [
        {
          "output_type": "stream",
          "text": [
            "Model: \"DCNN\"\n",
            "_________________________________________________________________\n",
            "Layer (type)                 Output Shape              Param #   \n",
            "=================================================================\n",
            "conv2d_1 (Conv2D)            (None, 48, 48, 64)        1664      \n",
            "_________________________________________________________________\n",
            "batchnorm_1 (BatchNormalizat (None, 48, 48, 64)        256       \n",
            "_________________________________________________________________\n",
            "conv2d_2 (Conv2D)            (None, 48, 48, 64)        102464    \n",
            "_________________________________________________________________\n",
            "batchnorm_2 (BatchNormalizat (None, 48, 48, 64)        256       \n",
            "_________________________________________________________________\n",
            "maxpool2d_1 (MaxPooling2D)   (None, 24, 24, 64)        0         \n",
            "_________________________________________________________________\n",
            "dropout_1 (Dropout)          (None, 24, 24, 64)        0         \n",
            "_________________________________________________________________\n",
            "conv2d_3 (Conv2D)            (None, 24, 24, 128)       73856     \n",
            "_________________________________________________________________\n",
            "batchnorm_3 (BatchNormalizat (None, 24, 24, 128)       512       \n",
            "_________________________________________________________________\n",
            "conv2d_4 (Conv2D)            (None, 24, 24, 128)       147584    \n",
            "_________________________________________________________________\n",
            "batchnorm_4 (BatchNormalizat (None, 24, 24, 128)       512       \n",
            "_________________________________________________________________\n",
            "maxpool2d_2 (MaxPooling2D)   (None, 12, 12, 128)       0         \n",
            "_________________________________________________________________\n",
            "dropout_2 (Dropout)          (None, 12, 12, 128)       0         \n",
            "_________________________________________________________________\n",
            "conv2d_5 (Conv2D)            (None, 12, 12, 256)       295168    \n",
            "_________________________________________________________________\n",
            "batchnorm_5 (BatchNormalizat (None, 12, 12, 256)       1024      \n",
            "_________________________________________________________________\n",
            "conv2d_6 (Conv2D)            (None, 12, 12, 256)       590080    \n",
            "_________________________________________________________________\n",
            "batchnorm_6 (BatchNormalizat (None, 12, 12, 256)       1024      \n",
            "_________________________________________________________________\n",
            "maxpool2d_3 (MaxPooling2D)   (None, 6, 6, 256)         0         \n",
            "_________________________________________________________________\n",
            "dropout_3 (Dropout)          (None, 6, 6, 256)         0         \n",
            "_________________________________________________________________\n",
            "flatten (Flatten)            (None, 9216)              0         \n",
            "_________________________________________________________________\n",
            "dense_1 (Dense)              (None, 128)               1179776   \n",
            "_________________________________________________________________\n",
            "batchnorm_7 (BatchNormalizat (None, 128)               512       \n",
            "_________________________________________________________________\n",
            "dropout_4 (Dropout)          (None, 128)               0         \n",
            "_________________________________________________________________\n",
            "out_layer (Dense)            (None, 7)                 903       \n",
            "=================================================================\n",
            "Total params: 2,395,591\n",
            "Trainable params: 2,393,543\n",
            "Non-trainable params: 2,048\n",
            "_________________________________________________________________\n",
            "Epoch 1/250\n",
            "505/504 [==============================] - 83s 164ms/step - loss: 2.1139 - accuracy: 0.2353 - val_loss: 1.6233 - val_accuracy: 0.3525\n",
            "Epoch 2/250\n",
            "505/504 [==============================] - 78s 154ms/step - loss: 1.6793 - accuracy: 0.3370 - val_loss: 1.4810 - val_accuracy: 0.4249\n",
            "Epoch 3/250\n",
            "505/504 [==============================] - 78s 154ms/step - loss: 1.5266 - accuracy: 0.4070 - val_loss: 1.4237 - val_accuracy: 0.4684\n",
            "Epoch 4/250\n",
            "505/504 [==============================] - 78s 154ms/step - loss: 1.4306 - accuracy: 0.4527 - val_loss: 1.2550 - val_accuracy: 0.5244\n",
            "Epoch 5/250\n",
            "505/504 [==============================] - 78s 154ms/step - loss: 1.3649 - accuracy: 0.4756 - val_loss: 1.2099 - val_accuracy: 0.5411\n",
            "Epoch 6/250\n",
            "505/504 [==============================] - 78s 154ms/step - loss: 1.3089 - accuracy: 0.5034 - val_loss: 1.2066 - val_accuracy: 0.5280\n",
            "Epoch 7/250\n",
            "505/504 [==============================] - 78s 154ms/step - loss: 1.2582 - accuracy: 0.5241 - val_loss: 1.3370 - val_accuracy: 0.5263\n",
            "Epoch 8/250\n",
            "505/504 [==============================] - 78s 154ms/step - loss: 1.2332 - accuracy: 0.5363 - val_loss: 1.0736 - val_accuracy: 0.5868\n",
            "Epoch 9/250\n",
            "505/504 [==============================] - 78s 154ms/step - loss: 1.1945 - accuracy: 0.5509 - val_loss: 1.0563 - val_accuracy: 0.6038\n",
            "Epoch 10/250\n",
            "505/504 [==============================] - 78s 154ms/step - loss: 1.1743 - accuracy: 0.5584 - val_loss: 1.0770 - val_accuracy: 0.5896\n",
            "Epoch 11/250\n",
            "505/504 [==============================] - 78s 154ms/step - loss: 1.1544 - accuracy: 0.5652 - val_loss: 1.1089 - val_accuracy: 0.5837\n",
            "Epoch 12/250\n",
            "505/504 [==============================] - 78s 154ms/step - loss: 1.1412 - accuracy: 0.5716 - val_loss: 1.0272 - val_accuracy: 0.6130\n",
            "Epoch 13/250\n",
            "505/504 [==============================] - 78s 154ms/step - loss: 1.1328 - accuracy: 0.5758 - val_loss: 1.0540 - val_accuracy: 0.6080\n",
            "Epoch 14/250\n",
            "505/504 [==============================] - 78s 154ms/step - loss: 1.1097 - accuracy: 0.5854 - val_loss: 1.0572 - val_accuracy: 0.6055\n",
            "Epoch 15/250\n",
            "505/504 [==============================] - 78s 154ms/step - loss: 1.1018 - accuracy: 0.5900 - val_loss: 1.1043 - val_accuracy: 0.5890\n",
            "Epoch 16/250\n",
            "505/504 [==============================] - 78s 154ms/step - loss: 1.0842 - accuracy: 0.5966 - val_loss: 1.0235 - val_accuracy: 0.6211\n",
            "Epoch 17/250\n",
            "505/504 [==============================] - 78s 154ms/step - loss: 1.0743 - accuracy: 0.5959 - val_loss: 0.9803 - val_accuracy: 0.6358\n",
            "Epoch 18/250\n",
            "505/504 [==============================] - 78s 154ms/step - loss: 1.0609 - accuracy: 0.6061 - val_loss: 0.9728 - val_accuracy: 0.6428\n",
            "Epoch 19/250\n",
            "505/504 [==============================] - 78s 154ms/step - loss: 1.0568 - accuracy: 0.6097 - val_loss: 0.9945 - val_accuracy: 0.6300\n",
            "Epoch 20/250\n",
            "505/504 [==============================] - 78s 154ms/step - loss: 1.0478 - accuracy: 0.6100 - val_loss: 0.9807 - val_accuracy: 0.6406\n",
            "Epoch 21/250\n",
            "505/504 [==============================] - 78s 154ms/step - loss: 1.0416 - accuracy: 0.6125 - val_loss: 0.9405 - val_accuracy: 0.6523\n",
            "Epoch 22/250\n",
            "505/504 [==============================] - 78s 154ms/step - loss: 1.0332 - accuracy: 0.6162 - val_loss: 1.0077 - val_accuracy: 0.6250\n",
            "Epoch 23/250\n",
            "505/504 [==============================] - 78s 154ms/step - loss: 1.0318 - accuracy: 0.6147 - val_loss: 0.9923 - val_accuracy: 0.6294\n",
            "Epoch 24/250\n",
            "505/504 [==============================] - 78s 154ms/step - loss: 1.0201 - accuracy: 0.6220 - val_loss: 0.9377 - val_accuracy: 0.6520\n",
            "Epoch 25/250\n",
            "505/504 [==============================] - 78s 154ms/step - loss: 1.0119 - accuracy: 0.6263 - val_loss: 0.9506 - val_accuracy: 0.6459\n",
            "Epoch 26/250\n",
            "505/504 [==============================] - 78s 154ms/step - loss: 0.9988 - accuracy: 0.6294 - val_loss: 0.9567 - val_accuracy: 0.6461\n",
            "Epoch 27/250\n",
            "505/504 [==============================] - 78s 154ms/step - loss: 1.0016 - accuracy: 0.6303 - val_loss: 0.9247 - val_accuracy: 0.6601\n",
            "Epoch 28/250\n",
            "505/504 [==============================] - 78s 154ms/step - loss: 0.9936 - accuracy: 0.6332 - val_loss: 0.9169 - val_accuracy: 0.6592\n",
            "Epoch 29/250\n",
            "505/504 [==============================] - 78s 153ms/step - loss: 0.9815 - accuracy: 0.6364 - val_loss: 0.9477 - val_accuracy: 0.6562\n",
            "Epoch 30/250\n",
            "505/504 [==============================] - 78s 154ms/step - loss: 0.9813 - accuracy: 0.6364 - val_loss: 0.9336 - val_accuracy: 0.6587\n",
            "Epoch 31/250\n",
            "505/504 [==============================] - 78s 154ms/step - loss: 0.9727 - accuracy: 0.6408 - val_loss: 0.9304 - val_accuracy: 0.6534\n",
            "Epoch 32/250\n",
            "505/504 [==============================] - 78s 154ms/step - loss: 0.9736 - accuracy: 0.6380 - val_loss: 0.9522 - val_accuracy: 0.6539\n",
            "Epoch 33/250\n",
            "505/504 [==============================] - 78s 154ms/step - loss: 0.9703 - accuracy: 0.6422 - val_loss: 0.9158 - val_accuracy: 0.6578\n",
            "Epoch 34/250\n",
            "505/504 [==============================] - 78s 154ms/step - loss: 0.9640 - accuracy: 0.6446 - val_loss: 0.9030 - val_accuracy: 0.6684\n",
            "Epoch 35/250\n",
            "505/504 [==============================] - 78s 154ms/step - loss: 0.9556 - accuracy: 0.6464 - val_loss: 0.9168 - val_accuracy: 0.6693\n",
            "Epoch 36/250\n",
            "505/504 [==============================] - 78s 154ms/step - loss: 0.9539 - accuracy: 0.6478 - val_loss: 0.9145 - val_accuracy: 0.6626\n",
            "Epoch 37/250\n",
            "505/504 [==============================] - 78s 154ms/step - loss: 0.9445 - accuracy: 0.6506 - val_loss: 0.9058 - val_accuracy: 0.6673\n",
            "Epoch 38/250\n",
            "505/504 [==============================] - 78s 154ms/step - loss: 0.9429 - accuracy: 0.6533 - val_loss: 0.9202 - val_accuracy: 0.6673\n",
            "Epoch 39/250\n",
            "505/504 [==============================] - 78s 155ms/step - loss: 0.9378 - accuracy: 0.6535 - val_loss: 0.9154 - val_accuracy: 0.6634\n",
            "Epoch 40/250\n",
            "505/504 [==============================] - 78s 155ms/step - loss: 0.9408 - accuracy: 0.6512 - val_loss: 0.9152 - val_accuracy: 0.6634\n",
            "Epoch 41/250\n",
            "505/504 [==============================] - 78s 155ms/step - loss: 0.9322 - accuracy: 0.6577 - val_loss: 0.9115 - val_accuracy: 0.6746\n",
            "Epoch 42/250\n",
            "505/504 [==============================] - 78s 154ms/step - loss: 0.9311 - accuracy: 0.6558 - val_loss: 0.9308 - val_accuracy: 0.6612\n",
            "Epoch 43/250\n",
            "505/504 [==============================] - 78s 155ms/step - loss: 0.9247 - accuracy: 0.6589 - val_loss: 0.9225 - val_accuracy: 0.6637\n",
            "Epoch 44/250\n",
            "505/504 [==============================] - 78s 155ms/step - loss: 0.9217 - accuracy: 0.6604 - val_loss: 0.9428 - val_accuracy: 0.6707\n",
            "Epoch 45/250\n",
            "505/504 [==============================] - 78s 154ms/step - loss: 0.9177 - accuracy: 0.6598 - val_loss: 0.9128 - val_accuracy: 0.6723\n",
            "Epoch 46/250\n",
            "505/504 [==============================] - 78s 154ms/step - loss: 0.9103 - accuracy: 0.6639 - val_loss: 0.9134 - val_accuracy: 0.6693\n",
            "Epoch 47/250\n",
            "505/504 [==============================] - 78s 154ms/step - loss: 0.9102 - accuracy: 0.6634 - val_loss: 0.9486 - val_accuracy: 0.6548\n",
            "Epoch 48/250\n",
            "505/504 [==============================] - 78s 154ms/step - loss: 0.9127 - accuracy: 0.6636 - val_loss: 0.9079 - val_accuracy: 0.6651\n",
            "\n",
            "Epoch 00048: ReduceLROnPlateau reducing learning rate to 0.0005000000237487257.\n",
            "Epoch 49/250\n",
            "505/504 [==============================] - 78s 154ms/step - loss: 0.8847 - accuracy: 0.6740 - val_loss: 0.8818 - val_accuracy: 0.6746\n",
            "Epoch 50/250\n",
            "505/504 [==============================] - 78s 154ms/step - loss: 0.8791 - accuracy: 0.6775 - val_loss: 0.8911 - val_accuracy: 0.6810\n",
            "Epoch 51/250\n",
            "505/504 [==============================] - 78s 154ms/step - loss: 0.8722 - accuracy: 0.6814 - val_loss: 0.8944 - val_accuracy: 0.6790\n",
            "Epoch 52/250\n",
            "505/504 [==============================] - 78s 154ms/step - loss: 0.8679 - accuracy: 0.6814 - val_loss: 0.9134 - val_accuracy: 0.6757\n",
            "Epoch 53/250\n",
            "505/504 [==============================] - 78s 154ms/step - loss: 0.8672 - accuracy: 0.6833 - val_loss: 0.9088 - val_accuracy: 0.6718\n",
            "Epoch 54/250\n",
            "505/504 [==============================] - 78s 154ms/step - loss: 0.8600 - accuracy: 0.6865 - val_loss: 0.8971 - val_accuracy: 0.6793\n",
            "Epoch 55/250\n",
            "505/504 [==============================] - 78s 155ms/step - loss: 0.8576 - accuracy: 0.6863 - val_loss: 0.8808 - val_accuracy: 0.6815\n",
            "Epoch 56/250\n",
            "505/504 [==============================] - 78s 154ms/step - loss: 0.8428 - accuracy: 0.6909 - val_loss: 0.8789 - val_accuracy: 0.6860\n",
            "Epoch 57/250\n",
            "505/504 [==============================] - 78s 154ms/step - loss: 0.8543 - accuracy: 0.6868 - val_loss: 0.8915 - val_accuracy: 0.6804\n",
            "Epoch 58/250\n",
            "505/504 [==============================] - 78s 154ms/step - loss: 0.8504 - accuracy: 0.6873 - val_loss: 0.8946 - val_accuracy: 0.6857\n",
            "Epoch 59/250\n",
            "505/504 [==============================] - 78s 154ms/step - loss: 0.8484 - accuracy: 0.6860 - val_loss: 0.8849 - val_accuracy: 0.6843\n",
            "Epoch 60/250\n",
            "505/504 [==============================] - 78s 154ms/step - loss: 0.8450 - accuracy: 0.6899 - val_loss: 0.8953 - val_accuracy: 0.6846\n",
            "Epoch 61/250\n",
            "505/504 [==============================] - 78s 154ms/step - loss: 0.8384 - accuracy: 0.6909 - val_loss: 0.8933 - val_accuracy: 0.6824\n",
            "Epoch 62/250\n",
            "505/504 [==============================] - 78s 154ms/step - loss: 0.8397 - accuracy: 0.6898 - val_loss: 0.8877 - val_accuracy: 0.6832\n",
            "Epoch 63/250\n",
            "505/504 [==============================] - 78s 154ms/step - loss: 0.8349 - accuracy: 0.6939 - val_loss: 0.8850 - val_accuracy: 0.6818\n",
            "\n",
            "Epoch 00063: ReduceLROnPlateau reducing learning rate to 0.0002500000118743628.\n",
            "Epoch 64/250\n",
            "505/504 [==============================] - 78s 154ms/step - loss: 0.8227 - accuracy: 0.6964 - val_loss: 0.8749 - val_accuracy: 0.6890\n",
            "Epoch 65/250\n",
            "505/504 [==============================] - 78s 154ms/step - loss: 0.8213 - accuracy: 0.6969 - val_loss: 0.8938 - val_accuracy: 0.6826\n",
            "Epoch 66/250\n",
            "505/504 [==============================] - 78s 154ms/step - loss: 0.8201 - accuracy: 0.6992 - val_loss: 0.8869 - val_accuracy: 0.6835\n",
            "Epoch 67/250\n",
            "505/504 [==============================] - 78s 154ms/step - loss: 0.8137 - accuracy: 0.7025 - val_loss: 0.8761 - val_accuracy: 0.6877\n",
            "Epoch 68/250\n",
            "505/504 [==============================] - 78s 154ms/step - loss: 0.8164 - accuracy: 0.7034 - val_loss: 0.8783 - val_accuracy: 0.6913\n",
            "Epoch 69/250\n",
            "505/504 [==============================] - 78s 154ms/step - loss: 0.8091 - accuracy: 0.7036 - val_loss: 0.8803 - val_accuracy: 0.6885\n",
            "Epoch 70/250\n",
            "505/504 [==============================] - 78s 154ms/step - loss: 0.8091 - accuracy: 0.7026 - val_loss: 0.8767 - val_accuracy: 0.6913\n",
            "Epoch 71/250\n",
            "505/504 [==============================] - 78s 154ms/step - loss: 0.8084 - accuracy: 0.7048 - val_loss: 0.8822 - val_accuracy: 0.6882\n",
            "Epoch 72/250\n",
            "505/504 [==============================] - 78s 155ms/step - loss: 0.8018 - accuracy: 0.7041 - val_loss: 0.8703 - val_accuracy: 0.6943\n",
            "Epoch 73/250\n",
            "505/504 [==============================] - 78s 154ms/step - loss: 0.8021 - accuracy: 0.7067 - val_loss: 0.8925 - val_accuracy: 0.6885\n",
            "Epoch 74/250\n",
            "505/504 [==============================] - 78s 154ms/step - loss: 0.8022 - accuracy: 0.7056 - val_loss: 0.8803 - val_accuracy: 0.6943\n",
            "Epoch 75/250\n",
            "505/504 [==============================] - 78s 155ms/step - loss: 0.7992 - accuracy: 0.7085 - val_loss: 0.8925 - val_accuracy: 0.6835\n",
            "Epoch 76/250\n",
            "505/504 [==============================] - 78s 154ms/step - loss: 0.8005 - accuracy: 0.7062 - val_loss: 0.8839 - val_accuracy: 0.6941\n",
            "Epoch 77/250\n",
            "505/504 [==============================] - 78s 154ms/step - loss: 0.7967 - accuracy: 0.7078 - val_loss: 0.8810 - val_accuracy: 0.6899\n",
            "Epoch 78/250\n",
            "505/504 [==============================] - 78s 154ms/step - loss: 0.7901 - accuracy: 0.7124 - val_loss: 0.8936 - val_accuracy: 0.6868\n",
            "Epoch 79/250\n",
            "505/504 [==============================] - 78s 154ms/step - loss: 0.7874 - accuracy: 0.7140 - val_loss: 0.9000 - val_accuracy: 0.6838\n",
            "\n",
            "Epoch 00079: ReduceLROnPlateau reducing learning rate to 0.0001250000059371814.\n",
            "Epoch 80/250\n",
            "505/504 [==============================] - 78s 154ms/step - loss: 0.7903 - accuracy: 0.7080 - val_loss: 0.8925 - val_accuracy: 0.6843\n",
            "Epoch 81/250\n",
            "505/504 [==============================] - 78s 154ms/step - loss: 0.7810 - accuracy: 0.7138 - val_loss: 0.8913 - val_accuracy: 0.6849\n",
            "Epoch 82/250\n",
            "505/504 [==============================] - 78s 154ms/step - loss: 0.7838 - accuracy: 0.7095 - val_loss: 0.8891 - val_accuracy: 0.6879\n",
            "Epoch 83/250\n",
            "505/504 [==============================] - 78s 154ms/step - loss: 0.7822 - accuracy: 0.7158 - val_loss: 0.8900 - val_accuracy: 0.6890\n",
            "Restoring model weights from the end of the best epoch\n",
            "Epoch 00083: early stopping\n"
          ],
          "name": "stdout"
        }
      ]
    },
    {
      "cell_type": "code",
      "metadata": {
        "id": "1dEOb4zuUYP4",
        "colab_type": "code",
        "colab": {}
      },
      "source": [
        "model.save('newmodel.h5')"
      ],
      "execution_count": 36,
      "outputs": []
    },
    {
      "cell_type": "code",
      "metadata": {
        "id": "lvDhsfqRLsIr",
        "colab_type": "code",
        "colab": {
          "base_uri": "https://localhost:8080/",
          "height": 293
        },
        "outputId": "d1b8a921-cca7-40de-c13a-a506eeb55335"
      },
      "source": [
        "sns.set()\n",
        "fig = pyplot.figure(0, (12, 4))\n",
        "\n",
        "ax = pyplot.subplot(1, 2, 1)\n",
        "sns.lineplot(history.epoch, history.history['accuracy'], label='train')\n",
        "sns.lineplot(history.epoch, history.history['val_accuracy'], label='valid')\n",
        "pyplot.title('Accuracy')\n",
        "pyplot.tight_layout()\n",
        "\n",
        "ax = pyplot.subplot(1, 2, 2)\n",
        "sns.lineplot(history.epoch, history.history['loss'], label='train')\n",
        "sns.lineplot(history.epoch, history.history['val_loss'], label='valid')\n",
        "pyplot.title('Loss')\n",
        "pyplot.tight_layout()\n",
        "\n",
        "pyplot.savefig('epoch_history_dcnn.png')\n",
        "pyplot.show()"
      ],
      "execution_count": 37,
      "outputs": [
        {
          "output_type": "display_data",
          "data": {
            "image/png": "[encoded data removed]",
            "text/plain": [
              "<Figure size 864x288 with 2 Axes>"
            ]
          },
          "metadata": {
            "tags": []
          }
        }
      ]
    },
    {
      "cell_type": "code",
      "metadata": {
        "id": "i-ahMBzcLsDe",
        "colab_type": "code",
        "colab": {
          "base_uri": "https://localhost:8080/",
          "height": 344
        },
        "outputId": "1a9e4efe-e40c-4e51-8be7-5d0fbf63b572"
      },
      "source": [
        "y_pred1 = model.predict(X_valid)\n",
        "yhat_valid = np.argmax(y_pred1,axis=1)\n",
        "confusion_matrix(np.argmax(y_valid, axis=1), yhat_valid)\n",
        "pyplot.savefig(\"confusion_matrix_dcnn.png\")\n",
        "\n",
        "print(f'total wrong validation predictions: {np.sum(np.argmax(y_valid, axis=1) != yhat_valid)}\\n\\n')\n",
        "print(classification_report(np.argmax(y_valid, axis=1), yhat_valid))"
      ],
      "execution_count": 38,
      "outputs": [
        {
          "output_type": "stream",
          "text": [
            "total wrong validation predictions: 1097\n",
            "\n",
            "\n",
            "              precision    recall  f1-score   support\n",
            "\n",
            "           0       0.60      0.70      0.65       495\n",
            "           1       0.81      0.45      0.58        55\n",
            "           2       0.63      0.40      0.49       512\n",
            "           3       0.88      0.87      0.88       899\n",
            "           4       0.60      0.59      0.59       608\n",
            "           5       0.78      0.79      0.78       400\n",
            "           6       0.60      0.74      0.66       620\n",
            "\n",
            "    accuracy                           0.69      3589\n",
            "   macro avg       0.70      0.65      0.66      3589\n",
            "weighted avg       0.70      0.69      0.69      3589\n",
            "\n"
          ],
          "name": "stdout"
        },
        {
          "output_type": "display_data",
          "data": {
            "text/plain": [
              "<Figure size 432x288 with 0 Axes>"
            ]
          },
          "metadata": {
            "tags": []
          }
        }
      ]
    },
    {
      "cell_type": "code",
      "metadata": {
        "id": "GRz_5UT6VYPI",
        "colab_type": "code",
        "colab": {
          "base_uri": "https://localhost:8080/",
          "height": 35
        },
        "outputId": "089daad8-ae13-416c-9983-39cb2a1bd237"
      },
      "source": [
        "y_pred_ = model.predict(X_valid, verbose=1)\n",
        "y_pred = np.argmax(y_pred_, axis=1)\n",
        "t_te = np.argmax(y_valid, axis=1)"
      ],
      "execution_count": 39,
      "outputs": [
        {
          "output_type": "stream",
          "text": [
            "3589/3589 [==============================] - 3s 733us/step\n"
          ],
          "name": "stdout"
        }
      ]
    },
    {
      "cell_type": "code",
      "metadata": {
        "id": "5MWE8hUPQXS0",
        "colab_type": "code",
        "colab": {}
      },
      "source": [
        "classes=np.array((\"Angry\", \"Disgust\", \"Fear\", \"Happy\", \"Sad\", \"Surprise\", \"Neutral\"))"
      ],
      "execution_count": 40,
      "outputs": []
    },
    {
      "cell_type": "code",
      "metadata": {
        "id": "vgcVsANuP2uu",
        "colab_type": "code",
        "colab": {}
      },
      "source": [
        "def plot_confusion_matrix(y_test, y_pred, classes,\n",
        "                          normalize=False,\n",
        "                          title='Unnormalized confusion matrix',\n",
        "                          cmap=plt.cm.Blues):\n",
        "    cm = confusion_matrix(y_test, y_pred)\n",
        "    \n",
        "    if normalize:\n",
        "        cm = np.round(cm.astype('float') / cm.sum(axis=1)[:, np.newaxis], 2)\n",
        "        \n",
        "    np.set_printoptions(precision=2)\n",
        "        \n",
        "    plt.imshow(cm, interpolation='nearest', cmap=cmap)\n",
        "    plt.title(title)\n",
        "    plt.colorbar()\n",
        "    tick_marks = np.arange(len(classes))\n",
        "    plt.xticks(tick_marks, classes, rotation=45)\n",
        "    plt.yticks(tick_marks, classes)\n",
        "\n",
        "    thresh = cm.min() + (cm.max() - cm.min()) / 2.\n",
        "    for i, j in itertools.product(range(cm.shape[0]), range(cm.shape[1])):\n",
        "        plt.text(j, i, cm[i, j],\n",
        "                 horizontalalignment=\"center\",\n",
        "                 color=\"white\" if cm[i, j] > thresh else \"black\")\n",
        "\n",
        "    plt.tight_layout()\n",
        "    plt.ylabel('True expression')\n",
        "    plt.xlabel('Predicted expression')\n",
        "    plt.show()"
      ],
      "execution_count": 41,
      "outputs": []
    },
    {
      "cell_type": "code",
      "metadata": {
        "id": "sdmuA3AkHTyS",
        "colab_type": "code",
        "colab": {}
      },
      "source": [
        "import itertools"
      ],
      "execution_count": 43,
      "outputs": []
    },
    {
      "cell_type": "code",
      "metadata": {
        "id": "0jD_DheAVYLi",
        "colab_type": "code",
        "colab": {
          "base_uri": "https://localhost:8080/",
          "height": 310
        },
        "outputId": "fac1a705-a28a-4cf0-ec16-7ab2a74a73e9"
      },
      "source": [
        "fig = plot_confusion_matrix(y_test=t_te, y_pred=y_pred,\n",
        "                      classes=classes,\n",
        "                      normalize=True,\n",
        "                      cmap=plt.cm.Greens,\n",
        "                      title='Test accuracy: ' + str(np.sum(y_pred == t_te)/len(t_te)) + '\\n')"
      ],
      "execution_count": 44,
      "outputs": [
        {
          "output_type": "display_data",
          "data": {
            "image/png": "[encoded data removed]",
            "text/plain": [
              "<Figure size 432x288 with 2 Axes>"
            ]
          },
          "metadata": {
            "tags": []
          }
        }
      ]
    },
    {
      "cell_type": "code",
      "metadata": {
        "id": "QiM1IwuUYRYv",
        "colab_type": "code",
        "colab": {
          "base_uri": "https://localhost:8080/",
          "height": 35
        },
        "outputId": "06208686-7a10-4591-f245-c2b987c82234"
      },
      "source": [
        "print(\"Kappa Score: \"+ str(cohen_kappa_score(t_te, y_pred)))"
      ],
      "execution_count": 51,
      "outputs": [
        {
          "output_type": "stream",
          "text": [
            "Kappa Score: 0.629532428696576\n"
          ],
          "name": "stdout"
        }
      ]
    },
    {
      "cell_type": "code",
      "metadata": {
        "id": "ykCYwlAiZms0",
        "colab_type": "code",
        "colab": {
          "base_uri": "https://localhost:8080/",
          "height": 35
        },
        "outputId": "7e338ca5-8cb1-4bd7-b810-14f5b232d8ae"
      },
      "source": [
        "print(\"MCC Score: \"+ str(matthews_corrcoef(t_te, y_pred)))"
      ],
      "execution_count": 52,
      "outputs": [
        {
          "output_type": "stream",
          "text": [
            "MCC Score: 0.6313122804881667\n"
          ],
          "name": "stdout"
        }
      ]
    },
    {
      "cell_type": "code",
      "metadata": {
        "id": "DVI1qFNDVYIO",
        "colab_type": "code",
        "colab": {
          "base_uri": "https://localhost:8080/",
          "height": 72
        },
        "outputId": "ad38e8ce-9034-4748-9617-51d4173ded24"
      },
      "source": [
        "yhat_test = np.argmax(model.predict(X_valid), axis=1)\n",
        "ytest_ = np.argmax(y_valid, axis=1)\n",
        "\n",
        "# plot_confusion_matrix(model, ytest_, yhat_test)\n",
        "# pyplot.savefig(\"confusion_matrix_mobilenet.png\")\n",
        "\n",
        "test_accu = np.sum(ytest_ == yhat_test) / len(ytest_) * 100\n",
        "print(f\"test accuracy: {round(test_accu, 4)} %\\n\\n\")\n",
        "\n",
        "# print(classification_report(ytest_, yhat_test))"
      ],
      "execution_count": 47,
      "outputs": [
        {
          "output_type": "stream",
          "text": [
            "test accuracy: 69.4344 %\n",
            "\n",
            "\n"
          ],
          "name": "stdout"
        }
      ]
    },
    {
      "cell_type": "code",
      "metadata": {
        "id": "o-Tt-E8kVYAE",
        "colab_type": "code",
        "colab": {
          "base_uri": "https://localhost:8080/",
          "height": 72
        },
        "outputId": "508d9f52-0eac-48d2-ae6f-b3e37a2d7634"
      },
      "source": [
        "loss = model.evaluate(X_train, y_train) \n",
        "print(\"Train Loss \" + str(loss[0]))\n",
        "print(\"Train Acc: \" + str(loss[1]))"
      ],
      "execution_count": 48,
      "outputs": [
        {
          "output_type": "stream",
          "text": [
            "32298/32298 [==============================] - 25s 765us/step\n",
            "Train Loss 0.6190132530150867\n",
            "Train Acc: 0.7725865244865417\n"
          ],
          "name": "stdout"
        }
      ]
    },
    {
      "cell_type": "code",
      "metadata": {
        "id": "S6hN4ExCSjM3",
        "colab_type": "code",
        "colab": {
          "base_uri": "https://localhost:8080/",
          "height": 72
        },
        "outputId": "233c2436-a2ef-4466-95fd-d6d04da587d8"
      },
      "source": [
        "loss = model.evaluate(X_valid, y_valid) \n",
        "print(\"Train Loss \" + str(loss[0]))\n",
        "print(\"Train Acc: \" + str(loss[1]))"
      ],
      "execution_count": 49,
      "outputs": [
        {
          "output_type": "stream",
          "text": [
            "3589/3589 [==============================] - 3s 760us/step\n",
            "Train Loss 0.8703293068291384\n",
            "Train Acc: 0.6943438053131104\n"
          ],
          "name": "stdout"
        }
      ]
    },
    {
      "cell_type": "code",
      "metadata": {
        "id": "3o-uLhkhSjI3",
        "colab_type": "code",
        "colab": {}
      },
      "source": [
        ""
      ],
      "execution_count": null,
      "outputs": []
    },
    {
      "cell_type": "markdown",
      "metadata": {
        "id": "ppXb2yJRzbQy",
        "colab_type": "text"
      },
      "source": [
        "# Training the DataSet"
      ]
    },
    {
      "cell_type": "markdown",
      "metadata": {
        "id": "CFeGdVxgzbQ0",
        "colab_type": "text"
      },
      "source": [
        "The dataset we are using for Emotion Detection for Facial Expressions is \"FER2013\"  "
      ]
    },
    {
      "cell_type": "code",
      "metadata": {
        "_cell_guid": "79c7e3d0-c299-4dcb-8224-4455121ee9b0",
        "_uuid": "d629ff2d2480ee46fbb7e2d37f6b5fab8052498a",
        "id": "UF4_gxDhzbQ4",
        "colab_type": "code",
        "colab": {}
      },
      "source": [
        "import pandas as pd\n",
        "import numpy as np\n",
        "from matplotlib import pyplot\n",
        "from keras.preprocessing.image import img_to_array\n",
        "from math import sqrt \n",
        "import itertools\n",
        "from IPython.display import display\n",
        "%matplotlib inline"
      ],
      "execution_count": null,
      "outputs": []
    },
    {
      "cell_type": "code",
      "metadata": {
        "id": "Gb9kttR3zbRC",
        "colab_type": "code",
        "colab": {}
      },
      "source": [
        "#Loading the dataset\n",
        "data= pd.read_csv('/tmp/fer2013/fer2013/fer2013.csv')\n",
        "data.head()"
      ],
      "execution_count": null,
      "outputs": []
    },
    {
      "cell_type": "code",
      "metadata": {
        "id": "Ecd-7TxwzbRL",
        "colab_type": "code",
        "colab": {}
      },
      "source": [
        "#Number of training samples of each emotions\n",
        "from pylab import rcParams\n",
        "rcParams['figure.figsize'] = 15, 10"
      ],
      "execution_count": null,
      "outputs": []
    },
    {
      "cell_type": "code",
      "metadata": {
        "id": "tY38mXslzbRT",
        "colab_type": "code",
        "colab": {}
      },
      "source": [
        "#Assigning Names to Emotions in labels\n",
        "\n",
        "num_classes = 7\n",
        "width = 48\n",
        "height = 48\n",
        "emotion_labels = [\"Angry\", \"Disgust\", \"Fear\", \"Happy\", \"Sad\", \"Surprise\", \"Neutral\"]\n",
        "classes=np.array((\"Angry\", \"Disgust\", \"Fear\", \"Happy\", \"Sad\", \"Surprise\", \"Neutral\"))\n",
        "data.Usage.value_counts() "
      ],
      "execution_count": null,
      "outputs": []
    },
    {
      "cell_type": "markdown",
      "metadata": {
        "id": "l7Gn0h13zbRa",
        "colab_type": "text"
      },
      "source": [
        "# Visualisation of Dataset"
      ]
    },
    {
      "cell_type": "code",
      "metadata": {
        "id": "k2uNXp72zbRb",
        "colab_type": "code",
        "colab": {}
      },
      "source": [
        "depth = 1\n",
        "height = int(sqrt(len(data.pixels[0].split()))) \n",
        "width = int(height)\n",
        "for i in range(0, 10): \n",
        "    array = np.mat(data.pixels[i]).reshape(height, width) \n",
        "    image = img_to_array(array)\n",
        "    display(image)\n",
        "    print(emotion_labels[data.emotion[i]]) "
      ],
      "execution_count": null,
      "outputs": []
    },
    {
      "cell_type": "markdown",
      "metadata": {
        "id": "W59cLOSvzbRl",
        "colab_type": "text"
      },
      "source": [
        "# Splitting the dataset"
      ]
    },
    {
      "cell_type": "code",
      "metadata": {
        "id": "xzDJqpF0zbRm",
        "colab_type": "code",
        "colab": {}
      },
      "source": [
        "train_set = data[(data.Usage == 'Training')] \n",
        "val_set = data[(data.Usage == 'PublicTest')]\n",
        "test_set = data[(data.Usage == 'PrivateTest')] \n",
        "X_train = np.array(list(map(str.split, train_set.pixels)), np.float32) \n",
        "X_val = np.array(list(map(str.split, val_set.pixels)), np.float32) \n",
        "X_test = np.array(list(map(str.split, test_set.pixels)), np.float32) \n",
        "X_train = X_train.reshape(X_train.shape[0], 48, 48, 1) \n",
        "X_val = X_val.reshape(X_val.shape[0], 48, 48, 1)\n",
        "X_test = X_test.reshape(X_test.shape[0], 48, 48, 1)"
      ],
      "execution_count": null,
      "outputs": []
    },
    {
      "cell_type": "code",
      "metadata": {
        "id": "Hku4UBq5zbRs",
        "colab_type": "code",
        "colab": {}
      },
      "source": [
        "num_train = X_train.shape[0]\n",
        "num_val = X_val.shape[0]\n",
        "num_test = X_test.shape[0]"
      ],
      "execution_count": null,
      "outputs": []
    },
    {
      "cell_type": "code",
      "metadata": {
        "id": "410YdFZxzbRz",
        "colab_type": "code",
        "colab": {}
      },
      "source": [
        "from keras.utils import np_utils\n",
        "from keras.preprocessing.image import ImageDataGenerator "
      ],
      "execution_count": null,
      "outputs": []
    },
    {
      "cell_type": "code",
      "metadata": {
        "id": "SwRl70bKzbR5",
        "colab_type": "code",
        "colab": {}
      },
      "source": [
        "y_train = train_set.emotion \n",
        "y_train = np_utils.to_categorical(y_train, num_classes) \n",
        "y_val = val_set.emotion \n",
        "y_val = np_utils.to_categorical(y_val, num_classes) \n",
        "y_test = test_set.emotion \n",
        "y_test = np_utils.to_categorical(y_test, num_classes)"
      ],
      "execution_count": null,
      "outputs": []
    },
    {
      "cell_type": "markdown",
      "metadata": {
        "id": "nrvY4q3QzbR_",
        "colab_type": "text"
      },
      "source": [
        "# Image Preprocessing"
      ]
    },
    {
      "cell_type": "code",
      "metadata": {
        "id": "_mI-oRorzbSA",
        "colab_type": "code",
        "colab": {}
      },
      "source": [
        "datagen = ImageDataGenerator( \n",
        "    rescale=1./255,\n",
        "    rotation_range = 10,\n",
        "    horizontal_flip = True,\n",
        "    width_shift_range=0.1,\n",
        "    height_shift_range=0.1,\n",
        "    fill_mode = 'nearest')\n",
        "\n",
        "testgen = ImageDataGenerator( \n",
        "    rescale=1./255\n",
        "    )\n",
        "datagen.fit(X_train)\n",
        "batch_size = 64"
      ],
      "execution_count": null,
      "outputs": []
    },
    {
      "cell_type": "code",
      "metadata": {
        "id": "6EtCXz7wzbSI",
        "colab_type": "code",
        "colab": {}
      },
      "source": [
        "for X_batch, y_batch in datagen.flow(X_train, y_train, batch_size=9):\n",
        "    for i in range(0, 9): \n",
        "        pyplot.axis('off') \n",
        "        pyplot.subplot(330 + 1 + i) \n",
        "        pyplot.imshow(X_batch[i].reshape(48, 48), cmap=pyplot.get_cmap('gray'))\n",
        "    pyplot.axis('off') \n",
        "    pyplot.show() \n",
        "    break"
      ],
      "execution_count": null,
      "outputs": []
    },
    {
      "cell_type": "code",
      "metadata": {
        "id": "SHPLu-8szbSP",
        "colab_type": "code",
        "colab": {}
      },
      "source": [
        "train_flow = datagen.flow(X_train, y_train, batch_size=batch_size) \n",
        "val_flow = testgen.flow(X_val, y_val, batch_size=batch_size) \n",
        "test_flow = testgen.flow(X_test, y_test, batch_size=batch_size)"
      ],
      "execution_count": null,
      "outputs": []
    },
    {
      "cell_type": "markdown",
      "metadata": {
        "id": "BweqCZaQzbSW",
        "colab_type": "text"
      },
      "source": [
        "# Building Neural Network Model"
      ]
    },
    {
      "cell_type": "code",
      "metadata": {
        "id": "gx_A_0RUzbSe",
        "colab_type": "code",
        "colab": {}
      },
      "source": [
        "def FER_Model(input_shape=(48,48,1)):\n",
        "    # first input model\n",
        "    visible = Input(shape=input_shape, name='input')\n",
        "    num_classes = 7\n",
        "    #the 1-st block\n",
        "    conv1_1 = Conv2D(64, kernel_size=3, activation='relu', padding='same', name = 'conv1_1')(visible)\n",
        "    conv1_1 = BatchNormalization()(conv1_1)\n",
        "    conv1_2 = Conv2D(64, kernel_size=3, activation='relu', padding='same', name = 'conv1_2')(conv1_1)\n",
        "    conv1_2 = BatchNormalization()(conv1_2)\n",
        "    pool1_1 = MaxPooling2D(pool_size=(2,2), name = 'pool1_1')(conv1_2)\n",
        "    drop1_1 = Dropout(0.3, name = 'drop1_1')(pool1_1)\n",
        "\n",
        "    #the 2-nd block\n",
        "    conv2_1 = Conv2D(128, kernel_size=3, activation='relu', padding='same', name = 'conv2_1')(drop1_1)\n",
        "    conv2_1 = BatchNormalization()(conv2_1)\n",
        "    conv2_2 = Conv2D(128, kernel_size=3, activation='relu', padding='same', name = 'conv2_2')(conv2_1)\n",
        "    conv2_2 = BatchNormalization()(conv2_2)\n",
        "    conv2_3 = Conv2D(128, kernel_size=3, activation='relu', padding='same', name = 'conv2_3')(conv2_2)\n",
        "    conv2_2 = BatchNormalization()(conv2_3)\n",
        "    pool2_1 = MaxPooling2D(pool_size=(2,2), name = 'pool2_1')(conv2_3)\n",
        "    drop2_1 = Dropout(0.3, name = 'drop2_1')(pool2_1)\n",
        "\n",
        "     #the 3-rd block\n",
        "    conv3_1 = Conv2D(256, kernel_size=3, activation='relu', padding='same', name = 'conv3_1')(drop2_1)\n",
        "    conv3_1 = BatchNormalization()(conv3_1)\n",
        "    conv3_2 = Conv2D(256, kernel_size=3, activation='relu', padding='same', name = 'conv3_2')(conv3_1)\n",
        "    conv3_2 = BatchNormalization()(conv3_2)\n",
        "    conv3_3 = Conv2D(256, kernel_size=3, activation='relu', padding='same', name = 'conv3_3')(conv3_2)\n",
        "    conv3_3 = BatchNormalization()(conv3_3)\n",
        "    conv3_4 = Conv2D(256, kernel_size=3, activation='relu', padding='same', name = 'conv3_4')(conv3_3)\n",
        "    conv3_4 = BatchNormalization()(conv3_4)\n",
        "    pool3_1 = MaxPooling2D(pool_size=(2,2), name = 'pool3_1')(conv3_4)\n",
        "    drop3_1 = Dropout(0.3, name = 'drop3_1')(pool3_1)\n",
        "\n",
        "    #the 4-th block\n",
        "    conv4_1 = Conv2D(256, kernel_size=3, activation='relu', padding='same', name = 'conv4_1')(drop3_1)\n",
        "    conv4_1 = BatchNormalization()(conv4_1)\n",
        "    conv4_2 = Conv2D(256, kernel_size=3, activation='relu', padding='same', name = 'conv4_2')(conv4_1)\n",
        "    conv4_2 = BatchNormalization()(conv4_2)\n",
        "    conv4_3 = Conv2D(256, kernel_size=3, activation='relu', padding='same', name = 'conv4_3')(conv4_2)\n",
        "    conv4_3 = BatchNormalization()(conv4_3)\n",
        "    conv4_4 = Conv2D(256, kernel_size=3, activation='relu', padding='same', name = 'conv4_4')(conv4_3)\n",
        "    conv4_4 = BatchNormalization()(conv4_4)\n",
        "    pool4_1 = MaxPooling2D(pool_size=(2,2), name = 'pool4_1')(conv4_4)\n",
        "    drop4_1 = Dropout(0.3, name = 'drop4_1')(pool4_1)\n",
        "    \n",
        "    #the 5-th block\n",
        "    conv5_1 = Conv2D(512, kernel_size=3, activation='relu', padding='same', name = 'conv5_1')(drop4_1)\n",
        "    conv5_1 = BatchNormalization()(conv5_1)\n",
        "    conv5_2 = Conv2D(512, kernel_size=3, activation='relu', padding='same', name = 'conv5_2')(conv5_1)\n",
        "    conv5_2 = BatchNormalization()(conv5_2)\n",
        "    conv5_3 = Conv2D(512, kernel_size=3, activation='relu', padding='same', name = 'conv5_3')(conv5_2)\n",
        "    conv5_3 = BatchNormalization()(conv5_3)\n",
        "    conv5_4 = Conv2D(512, kernel_size=3, activation='relu', padding='same', name = 'conv5_4')(conv5_3)\n",
        "    conv5_3 = BatchNormalization()(conv5_3)\n",
        "    pool5_1 = MaxPooling2D(pool_size=(2,2), name = 'pool5_1')(conv5_4)\n",
        "    drop5_1 = Dropout(0.3, name = 'drop5_1')(pool5_1)\n",
        "\n",
        "    #Flatten and output\n",
        "    flatten = Flatten(name = 'flatten')(drop5_1)\n",
        "    ouput = Dense(num_classes, activation='sigmoid', name = 'output')(flatten)\n",
        "\n",
        "    # create model \n",
        "    model = Model(inputs =visible, outputs = ouput)\n",
        "    # summary layers\n",
        "    print(model.summary())\n",
        "    \n",
        "    return model"
      ],
      "execution_count": null,
      "outputs": []
    },
    {
      "cell_type": "code",
      "metadata": {
        "id": "2sVFYR0LzbSk",
        "colab_type": "code",
        "colab": {}
      },
      "source": [
        "model = FER_Model()\n",
        "opt = Adam(lr=0.0001, decay=1e-6)\n",
        "model.compile(loss='binary_crossentropy', optimizer=opt, metrics=['accuracy'])"
      ],
      "execution_count": null,
      "outputs": []
    },
    {
      "cell_type": "code",
      "metadata": {
        "id": "k9tXjELKzbSp",
        "colab_type": "code",
        "colab": {}
      },
      "source": [
        "from keras.callbacks import ModelCheckpoint\n",
        "filepath=\"weights_min_loss.hdf5\"\n",
        "checkpoint = ModelCheckpoint(filepath, monitor='accuracy', verbose=1, save_best_only=True, mode='max')\n",
        "callbacks_list = [checkpoint]"
      ],
      "execution_count": null,
      "outputs": []
    },
    {
      "cell_type": "code",
      "metadata": {
        "id": "Zv1ztGnBzbSu",
        "colab_type": "code",
        "colab": {}
      },
      "source": [
        "# we iterate 200 times over the entire training set\n",
        "num_epochs = 200\n",
        "history = model.fit_generator(train_flow, \n",
        "                    steps_per_epoch=len(X_train) / batch_size, \n",
        "                    epochs=num_epochs,  \n",
        "                    verbose=1,  \n",
        "                    callbacks=callbacks_list,\n",
        "                    validation_data=val_flow,  \n",
        "                    validation_steps=len(X_val) / batch_size)"
      ],
      "execution_count": null,
      "outputs": []
    },
    {
      "cell_type": "code",
      "metadata": {
        "id": "W_JraRJnmsT0",
        "colab_type": "code",
        "colab": {}
      },
      "source": [
        "# from keras.models import load_model\n",
        "# model = load_model('/content/drive/My Drive/Colab Notebooks/Fer2013.h5')"
      ],
      "execution_count": null,
      "outputs": []
    },
    {
      "cell_type": "markdown",
      "metadata": {
        "id": "_CDE9m6bzbS0",
        "colab_type": "text"
      },
      "source": [
        "# Checking the performance of the model"
      ]
    },
    {
      "cell_type": "code",
      "metadata": {
        "id": "Bqp03t_tzbS0",
        "colab_type": "code",
        "colab": {}
      },
      "source": [
        "%matplotlib inline\n",
        "\n",
        "train_loss=history.history['loss']\n",
        "val_loss=history.history['val_loss']\n",
        "train_acc=history.history['accuracy']\n",
        "val_acc=history.history['val_accuracy']\n",
        "\n",
        "epochs = range(len(train_acc))\n",
        "\n",
        "plt.plot(epochs,train_loss,'r', label='train_loss')\n",
        "plt.plot(epochs,val_loss,'b', label='val_loss')\n",
        "plt.title('train_loss vs val_loss')\n",
        "plt.xlabel('epoch')\n",
        "plt.ylabel('loss')\n",
        "plt.legend()\n",
        "plt.figure()\n",
        "\n",
        "plt.plot(epochs,train_acc,'r', label='train_acc')\n",
        "plt.plot(epochs,val_acc,'b', label='val_acc')\n",
        "plt.title('train_acc vs val_acc')\n",
        "plt.xlabel('epoch')\n",
        "plt.ylabel('accuracy')\n",
        "plt.legend()\n",
        "plt.figure()"
      ],
      "execution_count": null,
      "outputs": []
    },
    {
      "cell_type": "code",
      "metadata": {
        "id": "b41KOXLctyN9",
        "colab_type": "code",
        "colab": {}
      },
      "source": [
        "loss = model.evaluate(X_train, y_train) \n",
        "print(\"Train Loss \" + str(loss[0]))\n",
        "print(\"Train Acc: \" + str(loss[1]))"
      ],
      "execution_count": null,
      "outputs": []
    },
    {
      "cell_type": "code",
      "metadata": {
        "id": "yFkKBbbHzbS6",
        "colab_type": "code",
        "colab": {}
      },
      "source": [
        "loss = model.evaluate_generator(test_flow, steps=len(X_test) / batch_size) \n",
        "print(\"Test Loss \" + str(loss[0]))\n",
        "print(\"Test Acc: \" + str(loss[1]))"
      ],
      "execution_count": null,
      "outputs": []
    },
    {
      "cell_type": "code",
      "metadata": {
        "id": "6isVziNbzbTA",
        "colab_type": "code",
        "colab": {}
      },
      "source": [
        "# model.save('../working/Fer2013.h5')"
      ],
      "execution_count": null,
      "outputs": []
    },
    {
      "cell_type": "code",
      "metadata": {
        "id": "JJtCY-p_zbTH",
        "colab_type": "code",
        "colab": {}
      },
      "source": [
        "loss = model.evaluate(X_test/255., y_test) \n",
        "print(\"Test Loss \" + str(loss[0]))\n",
        "print(\"Test Acc: \" + str(loss[1]))"
      ],
      "execution_count": null,
      "outputs": []
    },
    {
      "cell_type": "code",
      "metadata": {
        "id": "vuNPqukZzbTN",
        "colab_type": "code",
        "colab": {}
      },
      "source": [
        "loss = model.evaluate(X_val/255., y_val) \n",
        "print(\"Test Loss \" + str(loss[0]))\n",
        "print(\"Test Acc: \" + str(loss[1]))"
      ],
      "execution_count": null,
      "outputs": []
    },
    {
      "cell_type": "markdown",
      "metadata": {
        "id": "JdLXKuGQuKFP",
        "colab_type": "text"
      },
      "source": [
        "# Confution Matrix and Classification Report"
      ]
    },
    {
      "cell_type": "code",
      "metadata": {
        "id": "i_a3NxM6t404",
        "colab_type": "code",
        "colab": {}
      },
      "source": [
        "y_pred1 = model.predict(X_test)\n",
        "yhat_valid = np.argmax(y_pred1,axis=1)\n",
        "confusion_matrix(np.argmax(y_test, axis=1), yhat_valid)\n",
        "pyplot.savefig(\"confusion_matrix_dcnn.png\")\n",
        "\n",
        "print(f'total wrong validation predictions: {np.sum(np.argmax(y_test, axis=1) != yhat_valid)}\\n\\n')\n",
        "print(classification_report(np.argmax(y_test, axis=1), yhat_valid))"
      ],
      "execution_count": null,
      "outputs": []
    },
    {
      "cell_type": "code",
      "metadata": {
        "id": "QK664nTCt4xZ",
        "colab_type": "code",
        "colab": {}
      },
      "source": [
        ""
      ],
      "execution_count": null,
      "outputs": []
    },
    {
      "cell_type": "code",
      "metadata": {
        "id": "aUppiz9Kt4uQ",
        "colab_type": "code",
        "colab": {}
      },
      "source": [
        ""
      ],
      "execution_count": null,
      "outputs": []
    },
    {
      "cell_type": "code",
      "metadata": {
        "id": "NbOABnjWvFtl",
        "colab_type": "code",
        "colab": {}
      },
      "source": [
        "# predict probabilities for test set\n",
        "yhat_probs = model.predict(X_test, verbose=1)\n",
        "# predict crisp classes for test set\n",
        "yhat_classes = np.round(yhat_probs) #.argmax(axis = 1)\n",
        "# reduce to 1d array\n",
        "yhat_probs = yhat_probs[:]\n",
        "yhat_classes = yhat_classes[:]"
      ],
      "execution_count": null,
      "outputs": []
    },
    {
      "cell_type": "code",
      "metadata": {
        "id": "HRrvCW4It4sL",
        "colab_type": "code",
        "colab": {}
      },
      "source": [
        ""
      ],
      "execution_count": null,
      "outputs": []
    },
    {
      "cell_type": "code",
      "metadata": {
        "id": "IC0sIqEtt4pB",
        "colab_type": "code",
        "colab": {}
      },
      "source": [
        ""
      ],
      "execution_count": null,
      "outputs": []
    },
    {
      "cell_type": "code",
      "metadata": {
        "id": "OTAkW4m3zfYy",
        "colab_type": "code",
        "colab": {}
      },
      "source": [
        "from sklearn.metrics import accuracy_score\n",
        "from sklearn.metrics import precision_score\n",
        "from sklearn.metrics import recall_score\n",
        "from sklearn.metrics import f1_score\n",
        "from sklearn.metrics import cohen_kappa_score\n",
        "from sklearn.metrics import roc_auc_score\n",
        "from sklearn.metrics import confusion_matrix"
      ],
      "execution_count": null,
      "outputs": []
    },
    {
      "cell_type": "code",
      "metadata": {
        "id": "e-BsHdb4vFcs",
        "colab_type": "code",
        "colab": {}
      },
      "source": [
        "# accuracy: (tp + tn) / (p + n)\n",
        "accuracy = accuracy_score(y_test, yhat_classes)\n",
        "print('Accuracy: %f' % accuracy)\n",
        "# precision tp / (tp + fp)\n",
        "precision = precision_score(y_test, yhat_classes, average='micro')\n",
        "print('Precision: %f' % precision)\n",
        "# recall: tp / (tp + fn)\n",
        "recall = recall_score(y_test, yhat_classes, average='micro')\n",
        "print('Recall: %f' % recall)\n",
        "# f1: 2 tp / (2 tp + fp + fn)\n",
        "f1 = f1_score(y_test, yhat_classes, average='micro')\n",
        "print('F1 score: %f' % f1)\n",
        "\n",
        "# kappa\n",
        "# kappa = cohen_kappa_score(y_test, yhat_classes)\n",
        "# print('Cohens kappa: %f' % kappa)\n",
        "# ROC AUC\n",
        "auc = roc_auc_score(y_test, yhat_probs)\n",
        "print('ROC AUC: %f' % auc)\n",
        "# confusion matrix\n",
        "# matrix = confusion_matrix(y_test, yhat_classes)\n",
        "# print(matrix)"
      ],
      "execution_count": null,
      "outputs": []
    },
    {
      "cell_type": "code",
      "metadata": {
        "id": "omC15vTfzbTS",
        "colab_type": "code",
        "colab": {}
      },
      "source": [
        "def plot_confusion_matrix(y_test, y_pred, classes,\n",
        "                          normalize=False,\n",
        "                          title='Unnormalized confusion matrix',\n",
        "                          cmap=plt.cm.Blues):\n",
        "    cm = confusion_matrix(y_test, y_pred)\n",
        "    \n",
        "    if normalize:\n",
        "        cm = np.round(cm.astype('float') / cm.sum(axis=1)[:, np.newaxis], 2)\n",
        "        \n",
        "    np.set_printoptions(precision=2)\n",
        "        \n",
        "    plt.imshow(cm, interpolation='nearest', cmap=cmap)\n",
        "    plt.title(title)\n",
        "    plt.colorbar()\n",
        "    tick_marks = np.arange(len(classes))\n",
        "    plt.xticks(tick_marks, classes, rotation=45)\n",
        "    plt.yticks(tick_marks, classes)\n",
        "\n",
        "    thresh = cm.min() + (cm.max() - cm.min()) / 2.\n",
        "    for i, j in itertools.product(range(cm.shape[0]), range(cm.shape[1])):\n",
        "        plt.text(j, i, cm[i, j],\n",
        "                 horizontalalignment=\"center\",\n",
        "                 color=\"white\" if cm[i, j] > thresh else \"black\")\n",
        "\n",
        "    plt.tight_layout()\n",
        "    plt.ylabel('True expression')\n",
        "    plt.xlabel('Predicted expression')\n",
        "    plt.show()"
      ],
      "execution_count": null,
      "outputs": []
    },
    {
      "cell_type": "code",
      "metadata": {
        "id": "kYYbscTozbTX",
        "colab_type": "code",
        "colab": {}
      },
      "source": [
        "y_pred_ = model.predict(X_test/255., verbose=1)\n",
        "y_pred = np.argmax(y_pred_, axis=1)\n",
        "t_te = np.argmax(y_test, axis=1)"
      ],
      "execution_count": null,
      "outputs": []
    },
    {
      "cell_type": "code",
      "metadata": {
        "id": "U4J4o1y4zbTe",
        "colab_type": "code",
        "colab": {}
      },
      "source": [
        "fig = plot_confusion_matrix(y_test=t_te, y_pred=y_pred,\n",
        "                      classes=classes,\n",
        "                      normalize=True,\n",
        "                      cmap=plt.cm.Greys,\n",
        "                      title='Average accuracy: ' + str(np.sum(y_pred == t_te)/len(t_te)) + '\\n')"
      ],
      "execution_count": null,
      "outputs": []
    },
    {
      "cell_type": "code",
      "metadata": {
        "id": "IV_M4tjFspXG",
        "colab_type": "code",
        "colab": {}
      },
      "source": [
        ""
      ],
      "execution_count": null,
      "outputs": []
    }
  ]
}